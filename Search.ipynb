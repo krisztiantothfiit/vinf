{
 "cells": [
  {
   "cell_type": "code",
   "execution_count": 1,
   "metadata": {},
   "outputs": [
    {
     "name": "stderr",
     "output_type": "stream",
     "text": [
      "D:\\Anaconda\\lib\\site-packages\\requests\\__init__.py:91: RequestsDependencyWarning: urllib3 (1.26.2) or chardet (3.0.4) doesn't match a supported version!\n",
      "  RequestsDependencyWarning)\n"
     ]
    }
   ],
   "source": [
    "from datetime import datetime\n",
    "from elasticsearch import helpers, Elasticsearch\n",
    "import csv\n",
    "import csv2es"
   ]
  },
  {
   "cell_type": "code",
   "execution_count": 2,
   "metadata": {},
   "outputs": [],
   "source": [
    "es = Elasticsearch(timeout=1000)"
   ]
  },
  {
   "cell_type": "code",
   "execution_count": 31,
   "metadata": {},
   "outputs": [
    {
     "data": {
      "text/plain": [
       "{'acknowledged': True, 'shards_acknowledged': True, 'index': 'index_2'}"
      ]
     },
     "execution_count": 31,
     "metadata": {},
     "output_type": "execute_result"
    }
   ],
   "source": [
    "es.indices.create(\n",
    "    index='index_2',\n",
    "    body={\n",
    "      \"settings\":{\n",
    "      \"analysis\":{\n",
    "         \"analyzer\":{\n",
    "            \"my_analyzer\":{ \n",
    "               \"type\":\"custom\",\n",
    "               \"tokenizer\":\"standard\",\n",
    "               \"filter\":[\n",
    "                  \"lowercase\"\n",
    "               ]\n",
    "            },\n",
    "            \"my_stop_analyzer\":{ \n",
    "               \"type\":\"custom\",\n",
    "               \"tokenizer\":\"standard\",\n",
    "               \"filter\":[\n",
    "                  \"lowercase\",\n",
    "                  \"english_stop\"\n",
    "               ]\n",
    "            }\n",
    "         },\n",
    "         \"filter\":{\n",
    "            \"english_stop\":{\n",
    "               \"type\":\"stop\",\n",
    "               \"stopwords\":\"_english_\"\n",
    "            }\n",
    "         }\n",
    "      }\n",
    "   },\n",
    "   \"mappings\":{\n",
    "       \"properties\":{\n",
    "          \"en_label\": {\n",
    "             \"type\":\"text\",\n",
    "             \"analyzer\":\"my_analyzer\", \n",
    "             \"search_analyzer\":\"my_stop_analyzer\", \n",
    "             \"search_quote_analyzer\":\"my_analyzer\" \n",
    "         }\n",
    "       }\n",
    "       }\n",
    "    },\n",
    "    ignore=400\n",
    ")"
   ]
  },
  {
   "cell_type": "code",
   "execution_count": 32,
   "metadata": {},
   "outputs": [
    {
     "data": {
      "text/plain": [
       "{'acknowledged': True, 'shards_acknowledged': True, 'index': 'index_3'}"
      ]
     },
     "execution_count": 32,
     "metadata": {},
     "output_type": "execute_result"
    }
   ],
   "source": [
    "es.indices.create(\n",
    "    index='index_3',\n",
    "    body={\n",
    "      \"settings\": {\n",
    "        \"analysis\": {\n",
    "          \"filter\": {\n",
    "            \"autocomplete_filter\": {\n",
    "              \"type\": \"edge_ngram\",\n",
    "              \"min_gram\": 1,\n",
    "              \"max_gram\": 20\n",
    "            }\n",
    "          },\n",
    "          \"analyzer\": {\n",
    "            \"autocomplete\": { \n",
    "              \"type\": \"custom\",\n",
    "              \"tokenizer\": \"standard\",\n",
    "              \"filter\": [\n",
    "                \"lowercase\",\n",
    "                \"autocomplete_filter\"\n",
    "              ]\n",
    "            }\n",
    "          }\n",
    "        }\n",
    "      },\n",
    "      \"mappings\": {\n",
    "        \"properties\": {\n",
    "          \"en_label\": {\n",
    "            \"type\": \"text\",\n",
    "            \"analyzer\": \"autocomplete\", \n",
    "            \"search_analyzer\": \"standard\" \n",
    "          }\n",
    "        }\n",
    "      }\n",
    "    },\n",
    "    ignore=400\n",
    ")"
   ]
  },
  {
   "cell_type": "code",
   "execution_count": 33,
   "metadata": {},
   "outputs": [],
   "source": [
    "with open('./Data/parsed_categories.tsv') as f:\n",
    "    reader = csv.DictReader(f, delimiter='\\t')\n",
    "    helpers.bulk(es, reader, index='index_1')"
   ]
  },
  {
   "cell_type": "code",
   "execution_count": 34,
   "metadata": {},
   "outputs": [],
   "source": [
    "with open('./Data/parsed_categories.tsv') as f:\n",
    "    reader = csv.DictReader(f, delimiter='\\t')\n",
    "    helpers.bulk(es, reader, index='index_2')"
   ]
  },
  {
   "cell_type": "code",
   "execution_count": 35,
   "metadata": {},
   "outputs": [],
   "source": [
    "with open('./Data/parsed_categories.tsv') as f:\n",
    "    reader = csv.DictReader(f, delimiter='\\t')\n",
    "    helpers.bulk(es, reader, index='index_3')"
   ]
  },
  {
   "cell_type": "code",
   "execution_count": 27,
   "metadata": {},
   "outputs": [],
   "source": [
    "def search(index, query, showUrls, fields=[\"en_label\", \"hu_label\", \"sk_label\"]):\n",
    "    res = es.search(index=index, body={\n",
    "    \"query\" : {\n",
    "        \"query_string\" : {\n",
    "          \"query\" : query,\n",
    "          \"fields\"  : fields\n",
    "            }\n",
    "        }\n",
    "    })\n",
    "    index = 1\n",
    "    for r in res['hits']['hits']:\n",
    "        print(index, \". result\")\n",
    "        print(\"English Label: \", r['_source']['en_label'])\n",
    "        print(\"English Broader Categories: \", r['_source']['en_broader'])\n",
    "        print(\"Hungarian Label: \", r['_source']['hu_label'])\n",
    "        print(\"Hungarian Broader Categories: \", r['_source']['hu_broader'])\n",
    "        print(\"Slovak Label: \", r['_source']['sk_label'])\n",
    "        print(\"Slovak Broader Categories: \", r['_source']['sk_broader'])\n",
    "        if(showUrls): \n",
    "            print(\"English DBPedia Uri: \", r['_source']['en_db'])\n",
    "            print(\"English Wikipedia Uri: \", r['_source']['en_wiki'])\n",
    "            print(\"Hungarian DBPedia Uri: \", r['_source']['hu_db'])\n",
    "            print(\"Hungarian Wikipedia Uri: \", r['_source']['hu_wiki'])\n",
    "            print(\"Slovak DBPedia Uri: \", r['_source']['sk_db'])\n",
    "            print(\"Slovak Wikipedia Uri: \", r['_source']['sk_wiki'])\n",
    "        print()\n",
    "        index += 1"
   ]
  },
  {
   "cell_type": "code",
   "execution_count": 36,
   "metadata": {},
   "outputs": [
    {
     "name": "stdout",
     "output_type": "stream",
     "text": [
      "1 . result\n",
      "English Label:  Mathematical finance\n",
      "English Broader Categories:  Applied mathematics, Fields of application of statistics, Fields of finance, Actuarial science, Mathematical science occupations\n",
      "Hungarian Label:  \n",
      "Hungarian Broader Categories:  \n",
      "Slovak Label:  Finančná matematika\n",
      "Slovak Broader Categories:  Aplikovaná matematika, Financie\n",
      "English DBPedia Uri:  http://dbpedia.org/resource/Category:Mathematical_finance\n",
      "English Wikipedia Uri:  http://en.wikipedia.org/wiki/Category:Mathematical_finance?oldid=546540754\n",
      "Hungarian DBPedia Uri:  \n",
      "Hungarian Wikipedia Uri:  \n",
      "Slovak DBPedia Uri:  http://sk.dbpedia.org/resource/Kategória:Finančná_matematika\n",
      "Slovak Wikipedia Uri:  http://sk.wikipedia.org/wiki/Kategória:Finančná_matematika?oldid=5413451\n",
      "\n",
      "2 . result\n",
      "English Label:  Mathematics\n",
      "English Broader Categories:  Main topic classifications, Abstraction, Formal sciences, Structure\n",
      "Hungarian Label:  Matematika\n",
      "Hungarian Broader Categories:  Tudomány\n",
      "Slovak Label:  Matematika\n",
      "Slovak Broader Categories:  Prírodné vedy\n",
      "English DBPedia Uri:  http://dbpedia.org/resource/Category:Mathematics\n",
      "English Wikipedia Uri:  http://en.wikipedia.org/wiki/Category:Mathematics?oldid=543792969\n",
      "Hungarian DBPedia Uri:  http://hu.dbpedia.org/resource/Kategória:Matematika\n",
      "Hungarian Wikipedia Uri:  http://hu.wikipedia.org/wiki/Kategória:Matematika?oldid=13104890\n",
      "Slovak DBPedia Uri:  http://sk.dbpedia.org/resource/Kategória:Matematika\n",
      "Slovak Wikipedia Uri:  http://sk.wikipedia.org/wiki/Kategória:Matematika?oldid=5462139\n",
      "\n",
      "3 . result\n",
      "English Label:  Numerical analysis\n",
      "English Broader Categories:  Computational science, Mathematical problem solving, Mathematical analysis, Mathematics of computing, Algorithms\n",
      "Hungarian Label:  Numerikus analízis\n",
      "Hungarian Broader Categories:  Analízis\n",
      "Slovak Label:  Numerická matematika\n",
      "Slovak Broader Categories:  Aplikovaná matematika\n",
      "English DBPedia Uri:  http://dbpedia.org/resource/Category:Numerical_analysis\n",
      "English Wikipedia Uri:  http://en.wikipedia.org/wiki/Category:Numerical_analysis?oldid=543793749\n",
      "Hungarian DBPedia Uri:  http://hu.dbpedia.org/resource/Kategória:Numerikus_analízis\n",
      "Hungarian Wikipedia Uri:  http://hu.wikipedia.org/wiki/Kategória:Numerikus_analízis?oldid=13319766\n",
      "Slovak DBPedia Uri:  http://sk.dbpedia.org/resource/Kategória:Numerická_matematika\n",
      "Slovak Wikipedia Uri:  http://sk.wikipedia.org/wiki/Kategória:Numerická_matematika?oldid=5358455\n",
      "\n",
      "4 . result\n",
      "English Label:  Applied mathematics\n",
      "English Broader Categories:  Fields of mathematics, Mathematical sciences, Mathematics, Applied disciplines, Mathematical problem solving, Applied sciences\n",
      "Hungarian Label:  Alkalmazott matematika\n",
      "Hungarian Broader Categories:  Matematika, Alkalmazott tudományok\n",
      "Slovak Label:  Aplikovaná matematika\n",
      "Slovak Broader Categories:  Matematika, Aplikované vedy\n",
      "English DBPedia Uri:  http://dbpedia.org/resource/Category:Applied_mathematics\n",
      "English Wikipedia Uri:  http://en.wikipedia.org/wiki/Category:Applied_mathematics?oldid=548452119\n",
      "Hungarian DBPedia Uri:  http://hu.dbpedia.org/resource/Kategória:Alkalmazott_matematika\n",
      "Hungarian Wikipedia Uri:  http://hu.wikipedia.org/wiki/Kategória:Alkalmazott_matematika?oldid=13365449\n",
      "Slovak DBPedia Uri:  http://sk.dbpedia.org/resource/Kategória:Aplikovaná_matematika\n",
      "Slovak Wikipedia Uri:  http://sk.wikipedia.org/wiki/Kategória:Aplikovaná_matematika?oldid=5455945\n",
      "\n",
      "5 . result\n",
      "English Label:  Discrete mathematics\n",
      "English Broader Categories:  Fields of mathematics\n",
      "Hungarian Label:  Diszkrét matematika\n",
      "Hungarian Broader Categories:  Matematika\n",
      "Slovak Label:  Diskrétna matematika\n",
      "Slovak Broader Categories:  Matematika\n",
      "English DBPedia Uri:  http://dbpedia.org/resource/Category:Discrete_mathematics\n",
      "English Wikipedia Uri:  http://en.wikipedia.org/wiki/Category:Discrete_mathematics?oldid=547357213\n",
      "Hungarian DBPedia Uri:  http://hu.dbpedia.org/resource/Kategória:Diszkrét_matematika\n",
      "Hungarian Wikipedia Uri:  http://hu.wikipedia.org/wiki/Kategória:Diszkrét_matematika?oldid=13420513\n",
      "Slovak DBPedia Uri:  http://sk.dbpedia.org/resource/Kategória:Diskrétna_matematika\n",
      "Slovak Wikipedia Uri:  http://sk.wikipedia.org/wiki/Kategória:Diskrétna_matematika?oldid=5450219\n",
      "\n"
     ]
    }
   ],
   "source": [
    "search(\"index_1\", \"Finančná Matematika\", True, [\"sk_label\"])"
   ]
  },
  {
   "cell_type": "code",
   "execution_count": null,
   "metadata": {},
   "outputs": [],
   "source": []
  }
 ],
 "metadata": {
  "kernelspec": {
   "display_name": "Python 3",
   "language": "python",
   "name": "python3"
  },
  "language_info": {
   "codemirror_mode": {
    "name": "ipython",
    "version": 3
   },
   "file_extension": ".py",
   "mimetype": "text/x-python",
   "name": "python",
   "nbconvert_exporter": "python",
   "pygments_lexer": "ipython3",
   "version": "3.7.4"
  }
 },
 "nbformat": 4,
 "nbformat_minor": 2
}
