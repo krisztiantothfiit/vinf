{
 "cells": [
  {
   "cell_type": "code",
   "execution_count": 1,
   "metadata": {},
   "outputs": [
    {
     "name": "stderr",
     "output_type": "stream",
     "text": [
      "D:\\Anaconda\\lib\\site-packages\\requests\\__init__.py:91: RequestsDependencyWarning: urllib3 (1.26.2) or chardet (3.0.4) doesn't match a supported version!\n",
      "  RequestsDependencyWarning)\n"
     ]
    }
   ],
   "source": [
    "from datetime import datetime\n",
    "from elasticsearch import helpers, Elasticsearch\n",
    "import csv\n",
    "import csv2es"
   ]
  },
  {
   "cell_type": "code",
   "execution_count": 2,
   "metadata": {},
   "outputs": [],
   "source": [
    "es = Elasticsearch(timeout=1000)"
   ]
  },
  {
   "cell_type": "code",
   "execution_count": null,
   "metadata": {},
   "outputs": [],
   "source": [
    "es.indices.put_mapping(\n",
    "    index=\"wordcloud_data\",\n",
    "    doc_type=\"my-type\",\n",
    "    body={\n",
    "        \"properties\": {  \n",
    "            \"date\": {\"type\":\"date\"},\n",
    "            \"word_data\": {\"type\": \"text\"},\n",
    "            \"word_count\": {\"type\": \"integer\"}\n",
    "        }\n",
    "    }\n",
    ")"
   ]
  },
  {
   "cell_type": "code",
   "execution_count": 43,
   "metadata": {},
   "outputs": [
    {
     "data": {
      "text/plain": [
       "{'acknowledged': True,\n",
       " 'shards_acknowledged': True,\n",
       " 'index': 'category_index_3'}"
      ]
     },
     "execution_count": 43,
     "metadata": {},
     "output_type": "execute_result"
    }
   ],
   "source": [
    "es.indices.create(\n",
    "    index='category_index_3',\n",
    "    body={\n",
    "      \"settings\":{\n",
    "      \"analysis\":{\n",
    "         \"analyzer\":{\n",
    "            \"my_analyzer\":{ \n",
    "               \"type\":\"custom\",\n",
    "               \"tokenizer\":\"standard\",\n",
    "               \"filter\":[\n",
    "                  \"lowercase\"\n",
    "               ]\n",
    "            },\n",
    "            \"my_stop_analyzer\":{ \n",
    "               \"type\":\"custom\",\n",
    "               \"tokenizer\":\"standard\",\n",
    "               \"filter\":[\n",
    "                  \"lowercase\",\n",
    "                  \"english_stop\"\n",
    "               ]\n",
    "            }\n",
    "         },\n",
    "         \"filter\":{\n",
    "            \"english_stop\":{\n",
    "               \"type\":\"stop\",\n",
    "               \"stopwords\":\"_english_\"\n",
    "            }\n",
    "         }\n",
    "      }\n",
    "   },\n",
    "   \"mappings\":{\n",
    "       \"properties\":{\n",
    "          \"en_label\": {\n",
    "             \"type\":\"text\",\n",
    "             \"analyzer\":\"my_analyzer\", \n",
    "             \"search_analyzer\":\"my_stop_analyzer\", \n",
    "             \"search_quote_analyzer\":\"my_analyzer\" \n",
    "         }\n",
    "       }\n",
    "       }\n",
    "    },\n",
    "    # Will ignore 400 errors, remove to ensure you're prompted\n",
    "    ignore=400\n",
    ")"
   ]
  },
  {
   "cell_type": "code",
   "execution_count": 135,
   "metadata": {},
   "outputs": [
    {
     "data": {
      "text/plain": [
       "{'acknowledged': True,\n",
       " 'shards_acknowledged': True,\n",
       " 'index': 'category_index_4'}"
      ]
     },
     "execution_count": 135,
     "metadata": {},
     "output_type": "execute_result"
    }
   ],
   "source": [
    "es.indices.create(\n",
    "    index='category_index_4',\n",
    "    body={\n",
    "      \"settings\": {\n",
    "        \"analysis\": {\n",
    "          \"filter\": {\n",
    "            \"autocomplete_filter\": {\n",
    "              \"type\": \"edge_ngram\",\n",
    "              \"min_gram\": 1,\n",
    "              \"max_gram\": 20\n",
    "            }\n",
    "          },\n",
    "          \"analyzer\": {\n",
    "            \"autocomplete\": { \n",
    "              \"type\": \"custom\",\n",
    "              \"tokenizer\": \"standard\",\n",
    "              \"filter\": [\n",
    "                \"lowercase\",\n",
    "                \"autocomplete_filter\"\n",
    "              ]\n",
    "            }\n",
    "          }\n",
    "        }\n",
    "      },\n",
    "      \"mappings\": {\n",
    "        \"properties\": {\n",
    "          \"en_label\": {\n",
    "            \"type\": \"text\",\n",
    "            \"analyzer\": \"autocomplete\", \n",
    "            \"search_analyzer\": \"standard\" \n",
    "          }\n",
    "        }\n",
    "      }\n",
    "    },\n",
    "    # Will ignore 400 errors, remove to ensure you're prompted\n",
    "    ignore=400\n",
    ")"
   ]
  },
  {
   "cell_type": "code",
   "execution_count": 191,
   "metadata": {},
   "outputs": [
    {
     "data": {
      "text/plain": [
       "{'acknowledged': True,\n",
       " 'shards_acknowledged': True,\n",
       " 'index': 'category_index_5'}"
      ]
     },
     "execution_count": 191,
     "metadata": {},
     "output_type": "execute_result"
    }
   ],
   "source": [
    "es.indices.create(\n",
    "    index='category_index_5',\n",
    "    body={\n",
    "      \"settings\": {\n",
    "        \"analysis\": {\n",
    "          \"filter\": {\n",
    "            \"autocomplete_filter\": {\n",
    "              \"type\": \"edge_ngram\",\n",
    "              \"min_gram\": 1,\n",
    "              \"max_gram\": 10\n",
    "            }\n",
    "          },\n",
    "          \"analyzer\": {\n",
    "            \"autocomplete\": { \n",
    "              \"type\": \"custom\",\n",
    "              \"tokenizer\": \"standard\",\n",
    "              \"filter\": [\n",
    "                \"lowercase\",\n",
    "                \"autocomplete_filter\"\n",
    "              ]\n",
    "            }\n",
    "          }\n",
    "        }\n",
    "      },\n",
    "      \"mappings\": {\n",
    "        \"properties\": {\n",
    "          \"en_label\": {\n",
    "            \"type\": \"completion\",\n",
    "            \"analyzer\": \"autocomplete\", \n",
    "            \"search_analyzer\": \"standard\" \n",
    "          }\n",
    "        }\n",
    "      }\n",
    "    },\n",
    "    # Will ignore 400 errors, remove to ensure you're prompted\n",
    "    ignore=400\n",
    ")"
   ]
  },
  {
   "cell_type": "code",
   "execution_count": null,
   "metadata": {},
   "outputs": [],
   "source": [
    "with open('./Data/parsed_categories.csv') as f:\n",
    "    reader = csv.DictReader(f)\n",
    "    helpers.bulk(es, reader, index='category_index', doc_type='category')"
   ]
  },
  {
   "cell_type": "code",
   "execution_count": 68,
   "metadata": {},
   "outputs": [],
   "source": [
    "with open('./Data/parsed_categories_2.tsv') as f:\n",
    "    reader = csv.DictReader(f, delimiter='\\t')\n",
    "    helpers.bulk(es, reader, index='category_index_2', doc_type='category')"
   ]
  },
  {
   "cell_type": "code",
   "execution_count": 44,
   "metadata": {},
   "outputs": [],
   "source": [
    "with open('./Data/parsed_categories_2.tsv') as f:\n",
    "    reader = csv.DictReader(f, delimiter='\\t')\n",
    "    helpers.bulk(es, reader, index='category_index_3')"
   ]
  },
  {
   "cell_type": "code",
   "execution_count": 136,
   "metadata": {},
   "outputs": [],
   "source": [
    "with open('./Data/parsed_categories_2.tsv') as f:\n",
    "    reader = csv.DictReader(f, delimiter='\\t')\n",
    "    helpers.bulk(es, reader, index='category_index_4')"
   ]
  },
  {
   "cell_type": "code",
   "execution_count": 192,
   "metadata": {},
   "outputs": [],
   "source": [
    "with open('./Data/parsed_categories_2.tsv') as f:\n",
    "    reader = csv.DictReader(f, delimiter='\\t')\n",
    "    helpers.bulk(es, reader, index='category_index_5')"
   ]
  },
  {
   "cell_type": "code",
   "execution_count": 193,
   "metadata": {},
   "outputs": [
    {
     "data": {
      "text/plain": [
       "[{'epoch': '1605597702', 'timestamp': '07:21:42', 'count': '995868'}]"
      ]
     },
     "execution_count": 193,
     "metadata": {},
     "output_type": "execute_result"
    }
   ],
   "source": [
    "es.indices.refresh('category_index_5')\n",
    "es.cat.count('category_index_5', params={\"format\": \"json\"})"
   ]
  },
  {
   "cell_type": "code",
   "execution_count": 23,
   "metadata": {},
   "outputs": [
    {
     "data": {
      "text/plain": [
       "{'.async-search': {'aliases': {}},\n",
       " 'category_index_3': {'aliases': {}},\n",
       " 'ilm-history-2-000001': {'aliases': {'ilm-history-2': {'is_write_index': True,\n",
       "    'is_hidden': True}}},\n",
       " '.apm-custom-link': {'aliases': {}},\n",
       " 'category_index_2': {'aliases': {}},\n",
       " '.apm-agent-configuration': {'aliases': {}},\n",
       " '.kibana_1': {'aliases': {'.kibana': {}}},\n",
       " 'category_index': {'aliases': {}},\n",
       " '.kibana-event-log-7.9.3-000001': {'aliases': {'.kibana-event-log-7.9.3': {'is_write_index': True}}},\n",
       " 'category_index_4': {'aliases': {}},\n",
       " '.kibana_task_manager_1': {'aliases': {'.kibana_task_manager': {}}}}"
      ]
     },
     "execution_count": 23,
     "metadata": {},
     "output_type": "execute_result"
    }
   ],
   "source": [
    "# All indices\n",
    "es.indices.get_alias(\"*\")"
   ]
  },
  {
   "cell_type": "code",
   "execution_count": 42,
   "metadata": {},
   "outputs": [
    {
     "data": {
      "text/plain": [
       "{'acknowledged': True}"
      ]
     },
     "execution_count": 42,
     "metadata": {},
     "output_type": "execute_result"
    }
   ],
   "source": [
    "# Remove Index\n",
    "es.indices.delete(index='category_index_3', ignore=[400, 404])"
   ]
  },
  {
   "cell_type": "code",
   "execution_count": 3,
   "metadata": {},
   "outputs": [],
   "source": [
    "def search(index, query, field):\n",
    "    res = es.search(index=index, body={\n",
    "    \"query\" : {\n",
    "        \"query_string\" : {\n",
    "          \"query\" : query,\n",
    "          \"fields\"  : field\n",
    "            }\n",
    "        }\n",
    "    })\n",
    "    index = 1\n",
    "    for r in res['hits']['hits']:\n",
    "        print(index, \". result\")\n",
    "        print(\"English Label: \", r['_source']['en_label'])\n",
    "        print(\"English Broader Categories: \", r['_source']['en_broader'])\n",
    "        print(\"Hungarian Label: \", r['_source']['hu_label'])\n",
    "        print(\"Hungarian Broader Categories: \", r['_source']['hu_broader'])\n",
    "        print(\"Slovak Label: \", r['_source']['sk_label'])\n",
    "        print(\"Slovak Broader Categories: \", r['_source']['sk_broader'])\n",
    "        print()\n",
    "        index += 1\n",
    "    return res"
   ]
  },
  {
   "cell_type": "code",
   "execution_count": 6,
   "metadata": {},
   "outputs": [
    {
     "name": "stdout",
     "output_type": "stream",
     "text": [
      "1 . result\n",
      "English Label:  Mathematics articles related to basic mathematics\n",
      "English Broader Categories:  \n",
      "Hungarian Label:  \n",
      "Hungarian Broader Categories:  \n",
      "Slovak Label:  \n",
      "Slovak Broader Categories:  \n",
      "\n",
      "2 . result\n",
      "English Label:  Mathematics articles related to applied mathematics\n",
      "English Broader Categories:  \n",
      "Hungarian Label:  \n",
      "Hungarian Broader Categories:  \n",
      "Slovak Label:  \n",
      "Slovak Broader Categories:  \n",
      "\n",
      "3 . result\n",
      "English Label:  Mathematics articles related to discrete mathematics\n",
      "English Broader Categories:  \n",
      "Hungarian Label:  \n",
      "Hungarian Broader Categories:  \n",
      "Slovak Label:  \n",
      "Slovak Broader Categories:  \n",
      "\n",
      "4 . result\n",
      "English Label:  Mathematics articles related to general mathematics\n",
      "English Broader Categories:  \n",
      "Hungarian Label:  \n",
      "Hungarian Broader Categories:  \n",
      "Slovak Label:  \n",
      "Slovak Broader Categories:  \n",
      "\n",
      "5 . result\n",
      "English Label:  Mathematics articles related to history of mathematics\n",
      "English Broader Categories:  \n",
      "Hungarian Label:  \n",
      "Hungarian Broader Categories:  \n",
      "Slovak Label:  \n",
      "Slovak Broader Categories:  \n",
      "\n",
      "6 . result\n",
      "English Label:  Mathematics\n",
      "English Broader Categories:  Main topic classifications, Abstraction, Formal sciences, Structure\n",
      "Hungarian Label:  Matematika\n",
      "Hungarian Broader Categories:  Tudomány\n",
      "Slovak Label:  Matematika\n",
      "Slovak Broader Categories:  Prírodné vedy\n",
      "\n",
      "7 . result\n",
      "English Label:  Mathematics books\n",
      "English Broader Categories:  Non-fiction books, Mathematics literature, Science books, Books by topic\n",
      "Hungarian Label:  Matematikai könyvek\n",
      "Hungarian Broader Categories:  A matematika társadalmi vonatkozásai, Tudományos könyvek\n",
      "Slovak Label:  \n",
      "Slovak Broader Categories:  \n",
      "\n",
      "8 . result\n",
      "English Label:  Applied mathematics\n",
      "English Broader Categories:  Fields of mathematics, Mathematical sciences, Mathematics, Applied disciplines, Mathematical problem solving, Applied sciences\n",
      "Hungarian Label:  Alkalmazott matematika\n",
      "Hungarian Broader Categories:  Matematika, Alkalmazott tudományok\n",
      "Slovak Label:  Aplikovaná matematika\n",
      "Slovak Broader Categories:  Matematika, Aplikované vedy\n",
      "\n",
      "9 . result\n",
      "English Label:  Discrete mathematics\n",
      "English Broader Categories:  Fields of mathematics\n",
      "Hungarian Label:  Diszkrét matematika\n",
      "Hungarian Broader Categories:  Matematika\n",
      "Slovak Label:  Diskrétna matematika\n",
      "Slovak Broader Categories:  Matematika\n",
      "\n",
      "10 . result\n",
      "English Label:  Recreational mathematics\n",
      "English Broader Categories:  Fields of mathematics, Mathematics and culture, Mathematics\n",
      "Hungarian Label:  \n",
      "Hungarian Broader Categories:  \n",
      "Slovak Label:  \n",
      "Slovak Broader Categories:  \n",
      "\n"
     ]
    },
    {
     "data": {
      "text/plain": [
       "{'took': 828,\n",
       " 'timed_out': False,\n",
       " '_shards': {'total': 1, 'successful': 1, 'skipped': 0, 'failed': 0},\n",
       " 'hits': {'total': {'value': 212, 'relation': 'eq'},\n",
       "  'max_score': 14.80424,\n",
       "  'hits': [{'_index': 'category_index_4',\n",
       "    '_type': '_doc',\n",
       "    '_id': 'o1_R0HUBDVhNv2MgPvdL',\n",
       "    '_score': 14.80424,\n",
       "    '_source': {'key': 'Mathematics articles related to basic mathematics',\n",
       "     'en_db': 'http://dbpedia.org/resource/Category:Mathematics_articles_related_to_basic_mathematics',\n",
       "     'en_label': 'Mathematics articles related to basic mathematics',\n",
       "     'en_wiki': 'http://en.wikipedia.org/wiki/Category:Mathematics_articles_related_to_basic_mathematics?oldid=332898130',\n",
       "     'en_broader': '',\n",
       "     'hu_db': '',\n",
       "     'hu_label': '',\n",
       "     'hu_wiki': '',\n",
       "     'hu_broader': '',\n",
       "     'sk_db': '',\n",
       "     'sk_label': '',\n",
       "     'sk_wiki': '',\n",
       "     'sk_broader': ''}},\n",
       "   {'_index': 'category_index_4',\n",
       "    '_type': '_doc',\n",
       "    '_id': 'pl_R0HUBDVhNv2MgPvdL',\n",
       "    '_score': 14.80424,\n",
       "    '_source': {'key': 'Mathematics articles related to applied mathematics',\n",
       "     'en_db': 'http://dbpedia.org/resource/Category:Mathematics_articles_related_to_applied_mathematics',\n",
       "     'en_label': 'Mathematics articles related to applied mathematics',\n",
       "     'en_wiki': 'http://en.wikipedia.org/wiki/Category:Mathematics_articles_related_to_applied_mathematics?oldid=332898268',\n",
       "     'en_broader': '',\n",
       "     'hu_db': '',\n",
       "     'hu_label': '',\n",
       "     'hu_wiki': '',\n",
       "     'hu_broader': '',\n",
       "     'sk_db': '',\n",
       "     'sk_label': '',\n",
       "     'sk_wiki': '',\n",
       "     'sk_broader': ''}},\n",
       "   {'_index': 'category_index_4',\n",
       "    '_type': '_doc',\n",
       "    '_id': 'p1_R0HUBDVhNv2MgPvdL',\n",
       "    '_score': 14.80424,\n",
       "    '_source': {'key': 'Mathematics articles related to discrete mathematics',\n",
       "     'en_db': 'http://dbpedia.org/resource/Category:Mathematics_articles_related_to_discrete_mathematics',\n",
       "     'en_label': 'Mathematics articles related to discrete mathematics',\n",
       "     'en_wiki': 'http://en.wikipedia.org/wiki/Category:Mathematics_articles_related_to_discrete_mathematics?oldid=332898347',\n",
       "     'en_broader': '',\n",
       "     'hu_db': '',\n",
       "     'hu_label': '',\n",
       "     'hu_wiki': '',\n",
       "     'hu_broader': '',\n",
       "     'sk_db': '',\n",
       "     'sk_label': '',\n",
       "     'sk_wiki': '',\n",
       "     'sk_broader': ''}},\n",
       "   {'_index': 'category_index_4',\n",
       "    '_type': '_doc',\n",
       "    '_id': 'qV_R0HUBDVhNv2MgPvdL',\n",
       "    '_score': 14.80424,\n",
       "    '_source': {'key': 'Mathematics articles related to general mathematics',\n",
       "     'en_db': 'http://dbpedia.org/resource/Category:Mathematics_articles_related_to_general_mathematics',\n",
       "     'en_label': 'Mathematics articles related to general mathematics',\n",
       "     'en_wiki': 'http://en.wikipedia.org/wiki/Category:Mathematics_articles_related_to_general_mathematics?oldid=332898456',\n",
       "     'en_broader': '',\n",
       "     'hu_db': '',\n",
       "     'hu_label': '',\n",
       "     'hu_wiki': '',\n",
       "     'hu_broader': '',\n",
       "     'sk_db': '',\n",
       "     'sk_label': '',\n",
       "     'sk_wiki': '',\n",
       "     'sk_broader': ''}},\n",
       "   {'_index': 'category_index_4',\n",
       "    '_type': '_doc',\n",
       "    '_id': 'ql_R0HUBDVhNv2MgPvdL',\n",
       "    '_score': 14.598751,\n",
       "    '_source': {'key': 'Mathematics articles related to history of mathematics',\n",
       "     'en_db': 'http://dbpedia.org/resource/Category:Mathematics_articles_related_to_history_of_mathematics',\n",
       "     'en_label': 'Mathematics articles related to history of mathematics',\n",
       "     'en_wiki': 'http://en.wikipedia.org/wiki/Category:Mathematics_articles_related_to_history_of_mathematics?oldid=332898548',\n",
       "     'en_broader': '',\n",
       "     'hu_db': '',\n",
       "     'hu_label': '',\n",
       "     'hu_wiki': '',\n",
       "     'hu_broader': '',\n",
       "     'sk_db': '',\n",
       "     'sk_label': '',\n",
       "     'sk_wiki': '',\n",
       "     'sk_broader': ''}},\n",
       "   {'_index': 'category_index_4',\n",
       "    '_type': '_doc',\n",
       "    '_id': 'lVjN0HUBDVhNv2Mgpa26',\n",
       "    '_score': 13.925333,\n",
       "    '_source': {'key': 'Mathematics',\n",
       "     'en_db': 'http://dbpedia.org/resource/Category:Mathematics',\n",
       "     'en_label': 'Mathematics',\n",
       "     'en_wiki': 'http://en.wikipedia.org/wiki/Category:Mathematics?oldid=543792969',\n",
       "     'en_broader': 'Main topic classifications, Abstraction, Formal sciences, Structure',\n",
       "     'hu_db': 'http://hu.dbpedia.org/resource/Kateg\\\\u00F3ria:Matematika',\n",
       "     'hu_label': 'Matematika',\n",
       "     'hu_wiki': 'http://hu.wikipedia.org/wiki/Kateg\\\\u00F3ria:Matematika?oldid=13104890',\n",
       "     'hu_broader': 'Tudomány',\n",
       "     'sk_db': 'http://sk.dbpedia.org/resource/Kateg\\\\u00F3ria:Matematika',\n",
       "     'sk_label': 'Matematika',\n",
       "     'sk_wiki': 'http://sk.wikipedia.org/wiki/Kateg\\\\u00F3ria:Matematika?oldid=5462139',\n",
       "     'sk_broader': 'Prírodné vedy'}},\n",
       "   {'_index': 'category_index_4',\n",
       "    '_type': '_doc',\n",
       "    '_id': 'n1jN0HUBDVhNv2Mgv-Ai',\n",
       "    '_score': 13.566099,\n",
       "    '_source': {'key': 'Mathematics books',\n",
       "     'en_db': 'http://dbpedia.org/resource/Category:Mathematics_books',\n",
       "     'en_label': 'Mathematics books',\n",
       "     'en_wiki': 'http://en.wikipedia.org/wiki/Category:Mathematics_books?oldid=546490961',\n",
       "     'en_broader': 'Non-fiction books, Mathematics literature, Science books, Books by topic',\n",
       "     'hu_db': 'http://hu.dbpedia.org/resource/Kateg\\\\u00F3ria:Matematikai_k\\\\u00F6nyvek',\n",
       "     'hu_label': 'Matematikai könyvek',\n",
       "     'hu_wiki': 'http://hu.wikipedia.org/wiki/Kateg\\\\u00F3ria:Matematikai_k\\\\u00F6nyvek?oldid=13458172',\n",
       "     'hu_broader': 'A matematika társadalmi vonatkozásai, Tudományos könyvek',\n",
       "     'sk_db': '',\n",
       "     'sk_label': '',\n",
       "     'sk_wiki': '',\n",
       "     'sk_broader': ''}},\n",
       "   {'_index': 'category_index_4',\n",
       "    '_type': '_doc',\n",
       "    '_id': 'tFjN0HUBDVhNv2Mgv-Ei',\n",
       "    '_score': 13.566099,\n",
       "    '_source': {'key': 'Applied mathematics',\n",
       "     'en_db': 'http://dbpedia.org/resource/Category:Applied_mathematics',\n",
       "     'en_label': 'Applied mathematics',\n",
       "     'en_wiki': 'http://en.wikipedia.org/wiki/Category:Applied_mathematics?oldid=548452119',\n",
       "     'en_broader': 'Fields of mathematics, Mathematical sciences, Mathematics, Applied disciplines, Mathematical problem solving, Applied sciences',\n",
       "     'hu_db': 'http://hu.dbpedia.org/resource/Kateg\\\\u00F3ria:Alkalmazott_matematika',\n",
       "     'hu_label': 'Alkalmazott matematika',\n",
       "     'hu_wiki': 'http://hu.wikipedia.org/wiki/Kateg\\\\u00F3ria:Alkalmazott_matematika?oldid=13365449',\n",
       "     'hu_broader': 'Matematika, Alkalmazott tudományok',\n",
       "     'sk_db': 'http://sk.dbpedia.org/resource/Kateg\\\\u00F3ria:Aplikovan\\\\u00E1_matematika',\n",
       "     'sk_label': 'Aplikovaná matematika',\n",
       "     'sk_wiki': 'http://sk.wikipedia.org/wiki/Kateg\\\\u00F3ria:Aplikovan\\\\u00E1_matematika?oldid=5455945',\n",
       "     'sk_broader': 'Matematika, Aplikované vedy'}},\n",
       "   {'_index': 'category_index_4',\n",
       "    '_type': '_doc',\n",
       "    '_id': 'tVjN0HUBDVhNv2Mgv-Ei',\n",
       "    '_score': 13.566099,\n",
       "    '_source': {'key': 'Discrete mathematics',\n",
       "     'en_db': 'http://dbpedia.org/resource/Category:Discrete_mathematics',\n",
       "     'en_label': 'Discrete mathematics',\n",
       "     'en_wiki': 'http://en.wikipedia.org/wiki/Category:Discrete_mathematics?oldid=547357213',\n",
       "     'en_broader': 'Fields of mathematics',\n",
       "     'hu_db': 'http://hu.dbpedia.org/resource/Kateg\\\\u00F3ria:Diszkr\\\\u00E9t_matematika',\n",
       "     'hu_label': 'Diszkrét matematika',\n",
       "     'hu_wiki': 'http://hu.wikipedia.org/wiki/Kateg\\\\u00F3ria:Diszkr\\\\u00E9t_matematika?oldid=13420513',\n",
       "     'hu_broader': 'Matematika',\n",
       "     'sk_db': 'http://sk.dbpedia.org/resource/Kateg\\\\u00F3ria:Diskr\\\\u00E9tna_matematika',\n",
       "     'sk_label': 'Diskrétna matematika',\n",
       "     'sk_wiki': 'http://sk.wikipedia.org/wiki/Kateg\\\\u00F3ria:Diskr\\\\u00E9tna_matematika?oldid=5450219',\n",
       "     'sk_broader': 'Matematika'}},\n",
       "   {'_index': 'category_index_4',\n",
       "    '_type': '_doc',\n",
       "    '_id': '2ljN0HUBDVhNv2Mgv-Ei',\n",
       "    '_score': 13.566099,\n",
       "    '_source': {'key': 'Recreational mathematics',\n",
       "     'en_db': 'http://dbpedia.org/resource/Category:Recreational_mathematics',\n",
       "     'en_label': 'Recreational mathematics',\n",
       "     'en_wiki': 'http://en.wikipedia.org/wiki/Category:Recreational_mathematics?oldid=546490338',\n",
       "     'en_broader': 'Fields of mathematics, Mathematics and culture, Mathematics',\n",
       "     'hu_db': '',\n",
       "     'hu_label': '',\n",
       "     'hu_wiki': '',\n",
       "     'hu_broader': '',\n",
       "     'sk_db': '',\n",
       "     'sk_label': '',\n",
       "     'sk_wiki': '',\n",
       "     'sk_broader': ''}}]}}"
      ]
     },
     "execution_count": 6,
     "metadata": {},
     "output_type": "execute_result"
    }
   ],
   "source": [
    "search(\"category_index_4\", \"Mathematics\", [\"en_label\"])"
   ]
  },
  {
   "cell_type": "code",
   "execution_count": 28,
   "metadata": {},
   "outputs": [
    {
     "data": {
      "text/plain": [
       "{}"
      ]
     },
     "execution_count": 28,
     "metadata": {},
     "output_type": "execute_result"
    }
   ],
   "source": [
    "res"
   ]
  }
 ],
 "metadata": {
  "kernelspec": {
   "display_name": "Python 3",
   "language": "python",
   "name": "python3"
  },
  "language_info": {
   "codemirror_mode": {
    "name": "ipython",
    "version": 3
   },
   "file_extension": ".py",
   "mimetype": "text/x-python",
   "name": "python",
   "nbconvert_exporter": "python",
   "pygments_lexer": "ipython3",
   "version": "3.7.4"
  }
 },
 "nbformat": 4,
 "nbformat_minor": 2
}
