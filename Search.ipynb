{
 "cells": [
  {
   "cell_type": "code",
   "execution_count": 1,
   "metadata": {},
   "outputs": [],
   "source": [
    "from datetime import datetime\n",
    "from elasticsearch import helpers, Elasticsearch\n",
    "import csv"
   ]
  },
  {
   "cell_type": "code",
   "execution_count": 2,
   "metadata": {},
   "outputs": [],
   "source": [
    "es = Elasticsearch()"
   ]
  },
  {
   "cell_type": "code",
   "execution_count": null,
   "metadata": {},
   "outputs": [],
   "source": [
    "with open('./Data/parsed_categories.csv') as f:\n",
    "    reader = csv.DictReader(f)\n",
    "    helpers.bulk(es, reader, index='category_index', doc_type='category')"
   ]
  },
  {
   "cell_type": "code",
   "execution_count": null,
   "metadata": {},
   "outputs": [],
   "source": [
    "es.indices.refresh('category_index')\n",
    "es.cat.count('category_index', params={\"format\": \"json\"})"
   ]
  },
  {
   "cell_type": "code",
   "execution_count": 3,
   "metadata": {},
   "outputs": [
    {
     "data": {
      "text/plain": [
       "{'category_index': {'aliases': {}}}"
      ]
     },
     "execution_count": 3,
     "metadata": {},
     "output_type": "execute_result"
    }
   ],
   "source": [
    "# All indices\n",
    "es.indices.get_alias(\"*\")"
   ]
  },
  {
   "cell_type": "code",
   "execution_count": null,
   "metadata": {},
   "outputs": [],
   "source": [
    "# Remove Index\n",
    "#es.indices.delete(index='category_index', ignore=[400, 404])"
   ]
  },
  {
   "cell_type": "code",
   "execution_count": null,
   "metadata": {},
   "outputs": [],
   "source": [
    "# Find all\n",
    "res = es.search(index=\"category_index\", body={\n",
    "    \"query\": {\"match_all\": {}}\n",
    "})"
   ]
  },
  {
   "cell_type": "code",
   "execution_count": 8,
   "metadata": {},
   "outputs": [],
   "source": [
    "# Search by category\n",
    "res = es.search(index=\"category_index\", body={\n",
    "    \"query\" : {\n",
    "        \"query_string\" : {\n",
    "          \"query\" : \"War\",\n",
    "          \"fields\"  : [\"key\"]\n",
    "        }\n",
    "    }\n",
    "})"
   ]
  },
  {
   "cell_type": "code",
   "execution_count": 16,
   "metadata": {},
   "outputs": [
    {
     "name": "stdout",
     "output_type": "stream",
     "text": [
      "1 . result\n",
      "English Label:  War\n",
      "English Broader Categories:  ['Combat', 'National security', 'International security', 'Social issues', 'Violence', 'Core issues in ethics', 'Conflict', 'Violent conflict']\n",
      "Hungarian Label:  Missing\n",
      "Hungarian Broader Categories:  Missing\n",
      "Slovak Label:  Vojna\n",
      "Slovak Broader Categories:  ['Bezpečnosť']\n",
      "\n",
      "2 . result\n",
      "English Label:  War novels by war\n",
      "English Broader Categories:  ['Historical novels by setting', 'Books by war', 'War novels by period', 'Wars in fiction']\n",
      "Hungarian Label:  Missing\n",
      "Hungarian Broader Categories:  Missing\n",
      "Slovak Label:  Missing\n",
      "Slovak Broader Categories:  Missing\n",
      "\n",
      "3 . result\n",
      "English Label:  War correspondents by war\n",
      "English Broader Categories:  ['War correspondents', 'People by war']\n",
      "Hungarian Label:  Missing\n",
      "Hungarian Broader Categories:  Missing\n",
      "Slovak Label:  Missing\n",
      "Slovak Broader Categories:  Missing\n",
      "\n",
      "4 . result\n",
      "English Label:  War casualties by war\n",
      "English Broader Categories:  ['War casualties', 'People by war']\n",
      "Hungarian Label:  Missing\n",
      "Hungarian Broader Categories:  Missing\n",
      "Slovak Label:  Missing\n",
      "Slovak Broader Categories:  Missing\n",
      "\n",
      "5 . result\n",
      "English Label:  Vietnam War prisoners of war\n",
      "English Broader Categories:  ['People of the Vietnam War', 'Prisoners of war by conflict']\n",
      "Hungarian Label:  Missing\n",
      "Hungarian Broader Categories:  Missing\n",
      "Slovak Label:  Missing\n",
      "Slovak Broader Categories:  Missing\n",
      "\n",
      "6 . result\n",
      "English Label:  Korean War prisoners of war\n",
      "English Broader Categories:  ['Prisoners of war by conflict', 'Military personnel of the Korean War']\n",
      "Hungarian Label:  Missing\n",
      "Hungarian Broader Categories:  Missing\n",
      "Slovak Label:  Missing\n",
      "Slovak Broader Categories:  Missing\n",
      "\n",
      "7 . result\n",
      "English Label:  Gulf War prisoners of war\n",
      "English Broader Categories:  ['Military personnel of the Gulf War', 'Prisoners of war by conflict']\n",
      "Hungarian Label:  Missing\n",
      "Hungarian Broader Categories:  Missing\n",
      "Slovak Label:  Missing\n",
      "Slovak Broader Categories:  Missing\n",
      "\n",
      "8 . result\n",
      "English Label:  Iraq War prisoners of war\n",
      "English Broader Categories:  ['Prisoners of war by conflict', 'Military personnel of the Iraq War', 'Iraq War casualties']\n",
      "Hungarian Label:  Missing\n",
      "Hungarian Broader Categories:  Missing\n",
      "Slovak Label:  Missing\n",
      "Slovak Broader Categories:  Missing\n",
      "\n",
      "9 . result\n",
      "English Label:  War dances\n",
      "English Broader Categories:  ['Dances', 'Mock combat']\n",
      "Hungarian Label:  Missing\n",
      "Hungarian Broader Categories:  Missing\n",
      "Slovak Label:  Missing\n",
      "Slovak Broader Categories:  Missing\n",
      "\n",
      "10 . result\n",
      "English Label:  Trojan War\n",
      "English Broader Categories:  ['13th-century BC conflicts', '12th-century BC conflicts', 'Greek mythology', 'Wars involving ancient Greece', 'Wikipedia categories named after wars']\n",
      "Hungarian Label:  Missing\n",
      "Hungarian Broader Categories:  Missing\n",
      "Slovak Label:  Trójska vojna\n",
      "Slovak Broader Categories:  ['Grécka mytológia']\n",
      "\n"
     ]
    }
   ],
   "source": [
    "index = 1\n",
    "for r in res['hits']['hits']:\n",
    "    print(index, \". result\")\n",
    "    print(\"English Label: \", r['_source']['en_label'])\n",
    "    print(\"English Broader Categories: \", r['_source']['en_broader'])\n",
    "    print(\"Hungarian Label: \", r['_source']['hu_label'])\n",
    "    print(\"Hungarian Broader Categories: \", r['_source']['hu_broader'])\n",
    "    print(\"Slovak Label: \", r['_source']['sk_label'])\n",
    "    print(\"Slovak Broader Categories: \", r['_source']['sk_broader'])\n",
    "    print()\n",
    "    index += 1"
   ]
  },
  {
   "cell_type": "code",
   "execution_count": null,
   "metadata": {},
   "outputs": [],
   "source": []
  }
 ],
 "metadata": {
  "kernelspec": {
   "display_name": "Python 3",
   "language": "python",
   "name": "python3"
  },
  "language_info": {
   "codemirror_mode": {
    "name": "ipython",
    "version": 3
   },
   "file_extension": ".py",
   "mimetype": "text/x-python",
   "name": "python",
   "nbconvert_exporter": "python",
   "pygments_lexer": "ipython3",
   "version": "3.7.4"
  }
 },
 "nbformat": 4,
 "nbformat_minor": 2
}
