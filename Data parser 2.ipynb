{
 "cells": [
  {
   "cell_type": "code",
   "execution_count": 27,
   "metadata": {},
   "outputs": [],
   "source": [
    "import re\n",
    "import time\n",
    "import csv   "
   ]
  },
  {
   "cell_type": "code",
   "execution_count": 23,
   "metadata": {},
   "outputs": [],
   "source": [
    "class Category:\n",
    "    def __init__(self, key, englishCategory, hungarianCategory, slovakCategory):\n",
    "        self.englishCategory = englishCategory\n",
    "        self.hungarianCategory = hungarianCategory\n",
    "        self.slovakCategory = slovakCategory\n",
    "\n",
    "    def toString(self):\n",
    "        return \"Key: \" + self.key + \"\\nEnglishCategory: \" + (self.englishCategory.toString() if hasattr(self.englishCategory, 'label') else \"Missing\") + \"\\nHungarianCategory: \" + (self.hungarianCategory.toString() if hasattr(self.hungarianCategory, 'label') else \"Missing\") + \"\\nSlovakCategory: \" + (self.slovakCategory.toString() if hasattr(self.slovakCategory, 'label') else \"Missing\")\n",
    "        \n",
    "class Category_Language:\n",
    "    def __init__(self, dbpediaUri, label, wikipediaUri, broaderCategories):\n",
    "        self.dbpediaUri = dbpediaUri\n",
    "        self.label = label\n",
    "        self.wikipediaUri = wikipediaUri\n",
    "        self.broaderCategories = broaderCategories\n",
    "\n",
    "    def toString(self):\n",
    "        return \"\\n\\tDbPediaUri: \" + self.dbpediaUri + \"\\n\\tLabel: \" + self.label + \"\\n\\tWikipediaUri: \" + self.wikipediaUri + \"\\n\\tBroaderCategories: \" + str(self.broaderCategories)\n",
    "    \n",
    "def replaceUnicode(string):\n",
    "    unicode_chars = [\"\\\\u00C1\", \"\\\\u00C9\", \"\\\\u00CD\", \"\\\\u00D3\", \"\\\\u00D6\", \"\\\\u0150\", \"\\\\u00DA\", \"\\\\u00DC\", \"\\\\u0170\", \"\\\\u00E1\", \"\\\\u00E9\", \"\\\\u00ED\",\n",
    "                    \"\\\\u00F3\", \"\\\\u00F6\", \"\\\\u0151\", \"\\\\u00FA\", \"\\\\u00FC\", \"\\\\u0171\", \"\\\\u00C4\", \"\\\\u00D4\", \"\\\\u00DD\", \"\\\\u010C\", \"\\\\u010E\", \"\\\\u0139\",\n",
    "                    \"\\\\u013D\", \"\\\\u0147\", \"\\\\u0154\", \"\\\\u0160\", \"\\\\u0164\", \"\\\\u017D\", \"\\\\u01F1\", \"\\\\u01C4\", \"\\\\u00E4\", \"\\\\u00F4\", \"\\\\u00FD\", \"\\\\u010D\",\n",
    "                    \"\\\\u010F\", \"\\\\u013A\", \"\\\\u013E\", \"\\\\u0148\", \"\\\\u0155\", \"\\\\u0161\", \"\\\\u0165\", \"\\\\u017E\", \"\\\\u01F3\", \"\\\\u01C6\", \"\\\\u2013\"]\n",
    "    ascii_chars = [\"Á\", \"É\", \"Í\", \"Ó\", \"Ö\", \"Ő\", \"Ú\", \"Ü\", \"Ű\", \"á\", \"é\", \"í\", \"ó\", \"ö\", \"ő\", \"ú\", \"ü\", \"ű\", \"Ä\",\n",
    "                   \"Ô\", \"Ý\", \"Č\", \"Ď\", \"Ĺ\", \"Ľ\", \"Ň\", \"Ŕ\", \"Š\", \"Ť\", \"Ž\", \"DZ\", \"DŽ\", \"ä\", \"ô\", \"ý\", \"č\", \"ď\",\n",
    "                  \"ĺ\", \"ľ\", \"ň\", \"ŕ\", \"š\", \"ť\", \"ž\", \"dz\", \"dž\", \"-\"]\n",
    "    for i in range(0, len(unicode_chars)):\n",
    "        string = string.replace(unicode_chars[i], ascii_chars[i])\n",
    "        \n",
    "    return string"
   ]
  },
  {
   "cell_type": "code",
   "execution_count": 6,
   "metadata": {},
   "outputs": [],
   "source": [
    "def file_len(fname):\n",
    "    with open(fname) as f:\n",
    "        for i, l in enumerate(f):\n",
    "            pass\n",
    "    return i + 1"
   ]
  },
  {
   "cell_type": "code",
   "execution_count": 7,
   "metadata": {},
   "outputs": [],
   "source": [
    "category_labels_en_len = file_len(\"Data/category_labels_en.nq\")\n",
    "category_labels_hu_len = file_len(\"Data/category_labels_hu.nq\")\n",
    "category_labels_en_uris_hu_len = file_len(\"Data/category_labels_en_uris_hu.nq\")\n",
    "category_labels_en_uris_sk_len = file_len(\"Data/category_labels_en_uris_sk.nq\")\n",
    "category_labels_sk_len = file_len(\"Data/category_labels_sk.nq\")\n",
    "skos_categories_en_len = file_len(\"Data/skos_categories_en.nq\")\n",
    "skos_categories_hu_len = file_len(\"Data/skos_categories_hu.nq\")\n",
    "skos_categories_sk_len = file_len(\"Data/skos_categories_sk.nq\")"
   ]
  },
  {
   "cell_type": "code",
   "execution_count": 8,
   "metadata": {},
   "outputs": [],
   "source": [
    "urls = re.compile(\"\"\"\\<(.*?)\\>\"\"\")\n",
    "label = re.compile(\"\"\"\\\"(.*?)\\\"\"\"\") "
   ]
  },
  {
   "cell_type": "code",
   "execution_count": 9,
   "metadata": {},
   "outputs": [],
   "source": [
    "category_labels = []"
   ]
  },
  {
   "cell_type": "code",
   "execution_count": 38,
   "metadata": {},
   "outputs": [],
   "source": [
    "parsed_data = open('Data/parsed_categories.csv','a', newline='')\n",
    "fieldnames=['en_db', 'en_label', 'en_wiki', 'en_broader', 'hu_db', 'hu_label', 'hu_wiki', 'hu_broader', 'sk_db','sk_label', 'sk_wiki', 'sk_broader']\n",
    "writer = csv.DictWriter(parsed_data, fieldnames=fieldnames)\n",
    "writer.writeheader()"
   ]
  },
  {
   "cell_type": "code",
   "execution_count": 39,
   "metadata": {},
   "outputs": [
    {
     "name": "stdout",
     "output_type": "stream",
     "text": [
      "Done:  1\n",
      "--- 1.3870279788970947 seconds ---\n"
     ]
    }
   ],
   "source": [
    "start_time = time.time()\n",
    "category_en = open(\"Data/category_labels_en.nq\", \"r\")\n",
    "for i in range(2):\n",
    "    line = category_en.readline()\n",
    "    if (line.startswith('#') == False):                \n",
    "        split_urls = urls.findall(line)\n",
    "        split_label = label.findall(line)\n",
    "        englishCategory = Category_Language(split_urls[0], split_label[0], split_urls[2], [])        \n",
    "        hungarianWikipediaUri = FindWikipediaUriInHungarianUrls(split_urls[0])        \n",
    "        slovakWikipediaUri = FindWikipediaUriInSlovakUrls(split_urls[0])\n",
    "        \n",
    "        if (hungarianWikipediaUri):\n",
    "            hungarianCategory = FindHungarianCategory(hungarianWikipediaUri)\n",
    "        else:\n",
    "            hungarianCategory = {}\n",
    "        \n",
    "        if (slovakWikipediaUri):\n",
    "            slovakCategory = FindSlovakCategory(slovakWikipediaUri)\n",
    "        else:\n",
    "            slovakCategory = {}\n",
    "        \n",
    "        englishCategory.broaderCategories = FindEnglishBroaderCategories(englishCategory.label)\n",
    "        \n",
    "        if (hungarianWikipediaUri):\n",
    "            hungarianCategory.broaderCategories = FindHungarianBroaderCategories(hungarianCategory.label)\n",
    "            \n",
    "        if (slovakWikipediaUri):\n",
    "            slovakCategory.broaderCategories = FindSlovakBroaderCategories(slovakCategory.label)\n",
    "            \n",
    "        writer.writerow(\n",
    "            {'en_db': englishCategory.dbpediaUri,\n",
    "             'en_label': englishCategory.label,\n",
    "             'en_wiki': englishCategory.wikipediaUri,\n",
    "             'en_broader': englishCategory.broaderCategories,\n",
    "             'hu_db': (hungarianCategory.dbpediaUri if hasattr(hungarianCategory, 'dbpediaUri') else \"\"),\n",
    "             'hu_label': (hungarianCategory.label if hasattr(hungarianCategory, 'label') else \"\"),\n",
    "             'hu_wiki': (hungarianCategory.wikipediaUri if hasattr(hungarianCategory, 'wikipediaUri') else \"\"),\n",
    "             'hu_broader': (hungarianCategory.broaderCategories if hasattr(hungarianCategory, 'broaderCategories') else \"\"),\n",
    "             'sk_db': (slovakCategory.dbpediaUri if hasattr(slovakCategory, 'dbpediaUri') else \"\"),\n",
    "             'sk_label': (slovakCategory.label if hasattr(slovakCategory, 'label') else \"\"),\n",
    "             'sk_wiki': (slovakCategory.wikipediaUri if hasattr(slovakCategory, 'wikipediaUri') else \"\"),\n",
    "             'sk_broader': (slovakCategory.broaderCategories if hasattr(slovakCategory, 'broaderCategories') else \"\")\n",
    "            })\n",
    "        print(\"Done: \", i)\n",
    "        \n",
    "parsed_data.close()      \n",
    "print(\"--- %s seconds ---\" % (time.time() - start_time))"
   ]
  },
  {
   "cell_type": "code",
   "execution_count": 12,
   "metadata": {},
   "outputs": [],
   "source": [
    "def FindWikipediaUriInHungarianUrls(uri):\n",
    "    category_uris_hu = open(\"Data/category_labels_en_uris_hu.nq\", \"r\")\n",
    "    for i in range(category_labels_en_uris_hu_len):\n",
    "        line = category_uris_hu.readline()\n",
    "        if (line.startswith('#') == False):\n",
    "            split_urls = urls.findall(line)\n",
    "            dbPediaUri = split_urls[0]\n",
    "            if(dbPediaUri == uri):\n",
    "                return split_urls[2]"
   ]
  },
  {
   "cell_type": "code",
   "execution_count": 13,
   "metadata": {},
   "outputs": [],
   "source": [
    "def FindWikipediaUriInSlovakUrls(uri):\n",
    "    category_uris_sk = open(\"Data/category_labels_en_uris_sk.nq\", \"r\")\n",
    "    for i in range(category_labels_en_uris_sk_len):\n",
    "        line = category_uris_sk.readline()\n",
    "        if (line.startswith('#') == False):\n",
    "            split_urls = urls.findall(line)\n",
    "            dbPediaUri = split_urls[0]\n",
    "            if(dbPediaUri == uri):\n",
    "                return split_urls[2]"
   ]
  },
  {
   "cell_type": "code",
   "execution_count": 14,
   "metadata": {},
   "outputs": [],
   "source": [
    "def FindHungarianCategory(uri):\n",
    "    category_hu = open(\"Data/category_labels_hu.nq\", \"r\")\n",
    "    for i in range(category_labels_hu_len):\n",
    "        line = category_hu.readline()\n",
    "        if (line.startswith('#') == False):\n",
    "            split_urls = urls.findall(line)\n",
    "            split_label = label.findall(line)\n",
    "            wikiPediaUri = split_urls[2]\n",
    "            if(wikiPediaUri == uri):\n",
    "                return Category_Language(replaceUnicode(split_urls[0]), replaceUnicode(split_label[0]), replaceUnicode(wikiPediaUri), [])"
   ]
  },
  {
   "cell_type": "code",
   "execution_count": 15,
   "metadata": {},
   "outputs": [],
   "source": [
    "def FindSlovakCategory(uri):\n",
    "    category_sk = open(\"Data/category_labels_sk.nq\", \"r\")\n",
    "    for i in range(category_labels_sk_len):\n",
    "        line = category_sk.readline()\n",
    "        if (line.startswith('#') == False):\n",
    "            split_urls = urls.findall(line)\n",
    "            split_label = label.findall(line)\n",
    "            wikiPediaUri = split_urls[2]\n",
    "            if(wikiPediaUri == uri):\n",
    "                return Category_Language(replaceUnicode(split_urls[0]), replaceUnicode(split_label[0]), replaceUnicode(wikiPediaUri), [])"
   ]
  },
  {
   "cell_type": "code",
   "execution_count": 16,
   "metadata": {},
   "outputs": [],
   "source": [
    "def FindEnglishBroaderCategories(english_label):\n",
    "    skos_category_en = open(\"Data/skos_categories_en.nq\", \"r\")\n",
    "    for i in range(skos_categories_en_len):\n",
    "        line = skos_category_en.readline()\n",
    "        if (line.startswith('#') == False):\n",
    "            if(re.search(\"#prefLabel\", line)):\n",
    "                split_label = label.findall(line)\n",
    "                if(split_label[0] == english_label):\n",
    "                    broader_categories = []\n",
    "                    while(1):\n",
    "                        line = skos_category_en.readline()\n",
    "                        if(re.search(\"#broader\", line) or re.search('#related', line)):\n",
    "                            exception = split_label[0].replace(\")\", \"\\)\").replace(\"(\", \"\\(\").replace(\"*\", \"\\*\").replace(\"+\", \"\\+\").replace(\" \", \"_\")\n",
    "                            regex = \"\"\"(?!resource\\/Category:\"\"\" + exception + \"\"\">)resource\\/Category:(.*?)\\>\"\"\"\n",
    "                            broader = re.compile(regex)\n",
    "                            broader_category = broader.findall(line)\n",
    "                            if(len(broader_category) > 0):\n",
    "                                broader_categories.append(broader_category[0])\n",
    "                        if(re.search(\"#prefLabel\", line)):\n",
    "                            return broader_categories"
   ]
  },
  {
   "cell_type": "code",
   "execution_count": 17,
   "metadata": {},
   "outputs": [],
   "source": [
    "def FindHungarianBroaderCategories(hungarian_label):\n",
    "    skos_category_hu = open(\"Data/skos_categories_hu.nq\", \"r\")\n",
    "    for i in range(skos_categories_hu_len):\n",
    "        line = skos_category_hu.readline()\n",
    "        if (line.startswith('#') == False):\n",
    "            if(re.search(\"#prefLabel\", line)):\n",
    "                split_label = label.findall(line)\n",
    "                if(replaceUnicode(split_label[0]) == hungarian_label):\n",
    "                    broader_categories = []\n",
    "                    while(1):\n",
    "                        line = skos_category_hu.readline()\n",
    "                        if(re.search(\"#broader\", line) or re.search('#related', line)):\n",
    "                            exception = replaceUnicode(split_label[0]).replace(\")\", \"\\)\").replace(\"(\", \"\\(\").replace(\"*\", \"\\*\").replace(\"+\", \"\\+\").replace(\" \", \"_\")\n",
    "                            line = replaceUnicode(line)\n",
    "                            regex = \"(?!resource\\/Kategória:\" + exception + \">)resource\\/Kategória:(.*?)\\>\"\n",
    "                            broader = re.compile(regex)\n",
    "                            broader_category = broader.findall(line)\n",
    "                            if(len(broader_category) > 0):\n",
    "                                broader_categories.append(broader_category[0])\n",
    "                        if(re.search(\"#prefLabel\", line)):\n",
    "                            return broader_categories"
   ]
  },
  {
   "cell_type": "code",
   "execution_count": 18,
   "metadata": {},
   "outputs": [],
   "source": [
    "def FindSlovakBroaderCategories(slovak_label):\n",
    "    skos_category_sk = open(\"Data/skos_categories_sk.nq\", \"r\")\n",
    "    for i in range(skos_categories_sk_len):\n",
    "        line = skos_category_sk.readline()\n",
    "        if (line.startswith('#') == False):\n",
    "            if(re.search(\"#prefLabel\", line)):\n",
    "                split_label = label.findall(line)\n",
    "                if(replaceUnicode(split_label[0]) == slovak_label):\n",
    "                    broader_categories = []\n",
    "                    while(1):\n",
    "                        line = skos_category_sk.readline()\n",
    "                        if(re.search(\"#broader\", line) or re.search('#related', line)):\n",
    "                            exception = replaceUnicode(split_label[0]).replace(\")\", \"\\)\").replace(\"(\", \"\\(\").replace(\"*\", \"\\*\").replace(\"+\", \"\\+\").replace(\" \", \"_\")\n",
    "                            line = replaceUnicode(line)\n",
    "                            regex = \"\"\"(?!resource\\/Kategória:\"\"\" + exception + \"\"\">)resource\\/Kategória:(.*?)\\>\"\"\"\n",
    "                            broader = re.compile(regex)\n",
    "                            broader_category = broader.findall(line)\n",
    "                            if(len(broader_category) > 0):\n",
    "                                broader_categories.append(broader_category[0])\n",
    "                        if(re.search(\"#prefLabel\", line)):\n",
    "                            return broader_categories"
   ]
  },
  {
   "cell_type": "code",
   "execution_count": null,
   "metadata": {},
   "outputs": [],
   "source": []
  }
 ],
 "metadata": {
  "kernelspec": {
   "display_name": "Python 3",
   "language": "python",
   "name": "python3"
  },
  "language_info": {
   "codemirror_mode": {
    "name": "ipython",
    "version": 3
   },
   "file_extension": ".py",
   "mimetype": "text/x-python",
   "name": "python",
   "nbconvert_exporter": "python",
   "pygments_lexer": "ipython3",
   "version": "3.7.4"
  }
 },
 "nbformat": 4,
 "nbformat_minor": 2
}
