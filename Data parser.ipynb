{
 "cells": [
  {
   "cell_type": "code",
   "execution_count": 1,
   "metadata": {},
   "outputs": [],
   "source": [
    "import re\n",
    "import time\n",
    "import csv"
   ]
  },
  {
   "cell_type": "code",
   "execution_count": 2,
   "metadata": {},
   "outputs": [],
   "source": [
    "class Category:\n",
    "    def __init__(self, hungarianUrls, slovakUrls, englichCategory, hungarianCategory, slovakCategory):\n",
    "        self.hungarianUrls = hungarianUrls\n",
    "        self.slovakUrls = slovakUrls\n",
    "        self.englishCategory = englishCategory\n",
    "        self.hungarianCategory = hungarianCategory\n",
    "        self.slovakCategory = slovakCategory\n",
    "\n",
    "    def toString(self):\n",
    "        print(\"EnglishCategory: \" + (self.englishCategory.toString() if hasattr(self.englishCategory, 'label') else \"Missing\")\n",
    "              + \"\\nHungarianCategory: \" + (self.hungarianCategory.toString() if hasattr(self.hungarianCategory, 'label') else \"Missing\")\n",
    "              + \"\\nSlovakCategory: \" + (self.slovakCategory.toString() if hasattr(self.slovakCategory, 'label') else \"Missing\"))\n",
    "        \n",
    "class Category_Language:\n",
    "    def __init__(self, dbpediaUri, label, wikipediaUri, broaderCategories):\n",
    "        self.dbpediaUri = dbpediaUri\n",
    "        self.label = label\n",
    "        self.wikipediaUri = wikipediaUri\n",
    "        self.broaderCategories = broaderCategories\n",
    "\n",
    "    def toString(self):\n",
    "        return \"\\n\\tDbPediaUri: \" + self.dbpediaUri + \"\\n\\tLabel: \" + self.label + \"\\n\\tWikipediaUri: \" + self.wikipediaUri + \"\\n\\tBroaderCategories: \" + str(self.broaderCategories)\n",
    "    \n",
    "def replaceUnicode(string):\n",
    "    unicode_chars = [\"\\\\u00C1\", \"\\\\u00C9\", \"\\\\u00CD\", \"\\\\u00D3\", \"\\\\u00D6\", \"\\\\u0150\", \"\\\\u00DA\", \"\\\\u00DC\", \"\\\\u0170\", \"\\\\u00E1\", \"\\\\u00E9\", \"\\\\u00ED\",\n",
    "                    \"\\\\u00F3\", \"\\\\u00F6\", \"\\\\u0151\", \"\\\\u00FA\", \"\\\\u00FC\", \"\\\\u0171\", \"\\\\u00C4\", \"\\\\u00D4\", \"\\\\u00DD\", \"\\\\u010C\", \"\\\\u010E\", \"\\\\u0139\",\n",
    "                    \"\\\\u013D\", \"\\\\u0147\", \"\\\\u0154\", \"\\\\u0160\", \"\\\\u0164\", \"\\\\u017D\", \"\\\\u01F1\", \"\\\\u01C4\", \"\\\\u00E4\", \"\\\\u00F4\", \"\\\\u00FD\", \"\\\\u010D\",\n",
    "                    \"\\\\u010F\", \"\\\\u013A\", \"\\\\u013E\", \"\\\\u0148\", \"\\\\u0155\", \"\\\\u0161\", \"\\\\u0165\", \"\\\\u017E\", \"\\\\u01F3\", \"\\\\u01C6\"]\n",
    "    ascii_chars = [\"Á\", \"É\", \"Í\", \"Ó\", \"Ö\", \"Ő\", \"Ú\", \"Ü\", \"Ű\", \"á\", \"é\", \"í\", \"ó\", \"ö\", \"ő\", \"ú\", \"ü\", \"ű\", \"Ä\",\n",
    "                   \"Ô\", \"Ý\", \"Č\", \"Ď\", \"Ĺ\", \"Ľ\", \"Ň\", \"Ŕ\", \"Š\", \"Ť\", \"Ž\", \"DZ\", \"DŽ\", \"ä\", \"ô\", \"ý\", \"č\", \"ď\",\n",
    "                  \"ĺ\", \"ľ\", \"ň\", \"ŕ\", \"š\", \"ť\", \"ž\", \"dz\", \"dž\"]\n",
    "    for i in range(0, len(unicode_chars)):\n",
    "        string = string.replace(unicode_chars[i], ascii_chars[i])\n",
    "        \n",
    "    return string\n",
    "\n",
    "def listToString(s):  \n",
    "    str1 = \", \" \n",
    "    return (str1.join(s)) "
   ]
  },
  {
   "cell_type": "code",
   "execution_count": 3,
   "metadata": {},
   "outputs": [],
   "source": [
    "category_en = open(\"Data/category_labels_en.nq\", \"r\")\n",
    "category_uris_hu = open(\"Data/category_labels_en_uris_hu.nq\", \"r\")\n",
    "category_uris_sk = open(\"Data/category_labels_en_uris_sk.nq\", \"r\")\n",
    "category_hu = open(\"Data/category_labels_hu.nq\", \"r\")\n",
    "category_sk = open(\"Data/category_labels_sk.nq\", \"r\")\n",
    "skos_category_en = open(\"Data/skos_categories_en.nq\", \"r\")\n",
    "skos_category_hu = open(\"Data/skos_categories_hu.nq\", \"r\")\n",
    "skos_category_sk = open(\"Data/skos_categories_sk.nq\", \"r\")"
   ]
  },
  {
   "cell_type": "code",
   "execution_count": 4,
   "metadata": {},
   "outputs": [],
   "source": [
    "def file_len(fname):\n",
    "    with open(fname) as f:\n",
    "        for i, l in enumerate(f):\n",
    "            pass\n",
    "    return i + 1"
   ]
  },
  {
   "cell_type": "code",
   "execution_count": 5,
   "metadata": {},
   "outputs": [],
   "source": [
    "category_labels_en_len = file_len(\"Data/category_labels_en.nq\")\n",
    "category_labels_hu_len = file_len(\"Data/category_labels_hu.nq\")\n",
    "category_labels_en_uris_hu_len = file_len(\"Data/category_labels_en_uris_hu.nq\")\n",
    "category_labels_en_uris_sk_len = file_len(\"Data/category_labels_en_uris_sk.nq\")\n",
    "category_labels_sk_len = file_len(\"Data/category_labels_sk.nq\")\n",
    "skos_categories_en_len = file_len(\"Data/skos_categories_en.nq\")\n",
    "skos_categories_hu_len = file_len(\"Data/skos_categories_hu.nq\")\n",
    "skos_categories_sk_len = file_len(\"Data/skos_categories_sk.nq\")"
   ]
  },
  {
   "cell_type": "code",
   "execution_count": 6,
   "metadata": {},
   "outputs": [],
   "source": [
    "categoriesDict = {}"
   ]
  },
  {
   "cell_type": "code",
   "execution_count": 7,
   "metadata": {},
   "outputs": [
    {
     "name": "stdout",
     "output_type": "stream",
     "text": [
      "--- 20.789790630340576 seconds ---\n"
     ]
    }
   ],
   "source": [
    "# category_en\n",
    "start_time = time.time()\n",
    "for i in range(0,category_labels_en_len):\n",
    "    line = category_en.readline()\n",
    "    if (line.startswith('#') == False):\n",
    "        urls = re.compile(\"\"\"\\<(.*?)\\>\"\"\")\n",
    "        label = re.compile(\"\"\"\\\"(.*?)\\\"\"\"\")                 \n",
    "        split_urls = urls.findall(line)\n",
    "        split_label = label.findall(line)\n",
    "        englishCategory = Category_Language(split_urls[0], split_label[0], split_urls[2], [])\n",
    "        category = Category([], [], englishCategory, {}, {})\n",
    "        categoriesDict[category.englishCategory.label] = category\n",
    "print(\"--- %s seconds ---\" % (time.time() - start_time))"
   ]
  },
  {
   "cell_type": "code",
   "execution_count": 8,
   "metadata": {},
   "outputs": [],
   "source": [
    "uriDict = {}\n",
    "\n",
    "for key in categoriesDict:\n",
    "    uriDict[categoriesDict[key].englishCategory.dbpediaUri] = key"
   ]
  },
  {
   "cell_type": "code",
   "execution_count": 9,
   "metadata": {},
   "outputs": [
    {
     "name": "stdout",
     "output_type": "stream",
     "text": [
      "--- 0.24799537658691406 seconds ---\n"
     ]
    }
   ],
   "source": [
    "# find url to hungarian version of every category\n",
    "start_time = time.time()\n",
    "urls = re.compile(\"\"\"\\<(.*?)\\>\"\"\")\n",
    "for i in range(0,category_labels_en_uris_hu_len):\n",
    "    line = category_uris_hu.readline()\n",
    "    if (line.startswith('#') == False):\n",
    "        split_urls = urls.findall(line)\n",
    "        dbPediaUri = split_urls[0]\n",
    "        if(dbPediaUri in uriDict):\n",
    "            categoriesDict[uriDict[dbPediaUri]].hungarianUrls.append(split_urls[2])\n",
    "            \n",
    "print(\"--- %s seconds ---\" % (time.time() - start_time))"
   ]
  },
  {
   "cell_type": "code",
   "execution_count": 10,
   "metadata": {},
   "outputs": [],
   "source": [
    "wikiUriDict = {}\n",
    "\n",
    "for key in categoriesDict:\n",
    "    if(len(categoriesDict[key].hungarianUrls) > 0):\n",
    "        wikiUriDict[categoriesDict[key].hungarianUrls[0]] = key"
   ]
  },
  {
   "cell_type": "code",
   "execution_count": 11,
   "metadata": {},
   "outputs": [
    {
     "name": "stdout",
     "output_type": "stream",
     "text": [
      "--- 1.3545551300048828 seconds ---\n"
     ]
    }
   ],
   "source": [
    "# find hungarian version of every category by wiki url\n",
    "start_time = time.time()\n",
    "urls = re.compile(\"\"\"\\<(.*?)\\>\"\"\")\n",
    "label = re.compile(\"\"\"\\\"(.*?)\\\"\"\"\") \n",
    "for i in range(0,category_labels_hu_len):\n",
    "    line = category_hu.readline()\n",
    "    if (line.startswith('#') == False):\n",
    "        split_urls = urls.findall(line)\n",
    "        split_label = label.findall(line)\n",
    "        wikiPediaUri = split_urls[2]\n",
    "        if(wikiPediaUri in wikiUriDict):\n",
    "            hungarianCategory = Category_Language(replaceUnicode(split_urls[0]), split_label[0], replaceUnicode(wikiPediaUri), [])\n",
    "            categoriesDict[wikiUriDict[wikiPediaUri]].hungarianCategory = hungarianCategory\n",
    "            \n",
    "print(\"--- %s seconds ---\" % (time.time() - start_time))"
   ]
  },
  {
   "cell_type": "code",
   "execution_count": 12,
   "metadata": {},
   "outputs": [
    {
     "name": "stdout",
     "output_type": "stream",
     "text": [
      "--- 0.286515474319458 seconds ---\n"
     ]
    }
   ],
   "source": [
    "# find url to slovak version of every category\n",
    "start_time = time.time()\n",
    "urls = re.compile(\"\"\"\\<(.*?)\\>\"\"\")\n",
    "for i in range(0,category_labels_en_uris_sk_len):\n",
    "    line = category_uris_sk.readline()\n",
    "    if (line.startswith('#') == False):\n",
    "        split_urls = urls.findall(line)\n",
    "        dbPediaUri = split_urls[0]\n",
    "        if(dbPediaUri in uriDict):\n",
    "            categoriesDict[uriDict[dbPediaUri]].slovakUrls.append(split_urls[2])\n",
    "            \n",
    "print(\"--- %s seconds ---\" % (time.time() - start_time))"
   ]
  },
  {
   "cell_type": "code",
   "execution_count": 13,
   "metadata": {},
   "outputs": [],
   "source": [
    "wikiUriDictSlovak = {}\n",
    "\n",
    "for key in categoriesDict:\n",
    "    if(len(categoriesDict[key].slovakUrls) > 0):\n",
    "        wikiUriDictSlovak[categoriesDict[key].slovakUrls[0]] = key"
   ]
  },
  {
   "cell_type": "code",
   "execution_count": 14,
   "metadata": {},
   "outputs": [
    {
     "name": "stdout",
     "output_type": "stream",
     "text": [
      "--- 1.7885444164276123 seconds ---\n"
     ]
    }
   ],
   "source": [
    "# find slovak version of every category by wiki url\n",
    "start_time = time.time()\n",
    "urls = re.compile(\"\"\"\\<(.*?)\\>\"\"\")\n",
    "label = re.compile(\"\"\"\\\"(.*?)\\\"\"\"\") \n",
    "for i in range(0,category_labels_sk_len):\n",
    "    line = category_sk.readline()\n",
    "    if (line.startswith('#') == False):\n",
    "        split_urls = urls.findall(line)\n",
    "        split_label = label.findall(line)\n",
    "        wikiPediaUri = split_urls[2]\n",
    "        if(wikiPediaUri in wikiUriDictSlovak):\n",
    "            slovakCategory = Category_Language(replaceUnicode(split_urls[0]), split_label[0], replaceUnicode(wikiPediaUri), [])\n",
    "            categoriesDict[wikiUriDictSlovak[wikiPediaUri]].slovakCategory = slovakCategory\n",
    "            \n",
    "print(\"--- %s seconds ---\" % (time.time() - start_time))"
   ]
  },
  {
   "cell_type": "code",
   "execution_count": 15,
   "metadata": {},
   "outputs": [
    {
     "name": "stdout",
     "output_type": "stream",
     "text": [
      "--- 297.90424036979675 seconds ---\n"
     ]
    }
   ],
   "source": [
    "# find english broader categories\n",
    "start_time = time.time()\n",
    "urls = re.compile(\"\"\"\\<(.*?)\\>\"\"\")\n",
    "label = re.compile(\"\"\"\\\"(.*?)\\\"\"\"\")\n",
    "for i in range(0, skos_categories_en_len):\n",
    "    line = skos_category_en.readline()\n",
    "    if (line.startswith('#') == False):\n",
    "        if(re.search(\"#prefLabel\", line)):\n",
    "            split_label = label.findall(line)\n",
    "        if(re.search(\"#broader\", line) or re.search('#related', line)):\n",
    "            exception = split_label[0].replace(\")\", \"\\)\").replace(\"(\", \"\\(\").replace(\"*\", \"\\*\").replace(\"+\", \"\\+\").replace(\" \", \"_\")\n",
    "            regex = \"\"\"(?!resource\\/Category:\"\"\" + exception + \"\"\">)resource\\/Category:(.*?)\\>\"\"\"\n",
    "            broader = re.compile(regex)\n",
    "            broader_category = broader.findall(line)\n",
    "            if(len(broader_category) > 0):\n",
    "                categoriesDict[split_label[0]].englishCategory.broaderCategories.append(broader_category[0].replace(\"_\", \" \"))\n",
    "\n",
    "print(\"--- %s seconds ---\" % (time.time() - start_time))"
   ]
  },
  {
   "cell_type": "code",
   "execution_count": 16,
   "metadata": {},
   "outputs": [],
   "source": [
    "labelDictHungarian = {}\n",
    "\n",
    "for key in categoriesDict:\n",
    "    if(hasattr(categoriesDict[key], 'hungarianCategory') & hasattr(categoriesDict[key].hungarianCategory, 'label')):\n",
    "        labelDictHungarian[categoriesDict[key].hungarianCategory.label] = key"
   ]
  },
  {
   "cell_type": "code",
   "execution_count": 17,
   "metadata": {},
   "outputs": [
    {
     "name": "stdout",
     "output_type": "stream",
     "text": [
      "--- 12.984455585479736 seconds ---\n"
     ]
    }
   ],
   "source": [
    "# find hungarian broader categories\n",
    "start_time = time.time()\n",
    "urls = re.compile(\"\"\"\\<(.*?)\\>\"\"\")\n",
    "label = re.compile(\"\"\"\\\"(.*?)\\\"\"\"\")\n",
    "for i in range(0, skos_categories_hu_len):\n",
    "    line = skos_category_hu.readline()\n",
    "    if (line.startswith('#') == False):\n",
    "        if(re.search(\"#prefLabel\", line)):\n",
    "            split_label = label.findall(line)\n",
    "        if((re.search(\"#broader\", line) or re.search('#related', line)) and split_label[0] in labelDictHungarian):\n",
    "            exception = replaceUnicode(split_label[0]).replace(\")\", \"\\)\").replace(\"(\", \"\\(\").replace(\"*\", \"\\*\").replace(\"+\", \"\\+\").replace(\" \", \"_\")\n",
    "            line = replaceUnicode(line)\n",
    "            regex = \"(?!resource\\/Kategória:\" + exception + \">)resource\\/Kategória:(.*?)\\>\"\n",
    "            broader = re.compile(regex)\n",
    "            broader_category = broader.findall(line)\n",
    "            if(len(broader_category) > 0):\n",
    "                categoriesDict[labelDictHungarian[split_label[0]]].hungarianCategory.broaderCategories.append(replaceUnicode(broader_category[0]).replace(\"_\", \" \"))\n",
    "                categoriesDict[labelDictHungarian[split_label[0]]].hungarianCategory.label = replaceUnicode(split_label[0])\n",
    "            \n",
    "print(\"--- %s seconds ---\" % (time.time() - start_time))"
   ]
  },
  {
   "cell_type": "code",
   "execution_count": 18,
   "metadata": {},
   "outputs": [],
   "source": [
    "labelDictSlovak = {}\n",
    "\n",
    "for key in categoriesDict:\n",
    "    if(hasattr(categoriesDict[key], 'slovakCategory') & hasattr(categoriesDict[key].slovakCategory, 'label')):\n",
    "        labelDictSlovak[categoriesDict[key].slovakCategory.label] = key"
   ]
  },
  {
   "cell_type": "code",
   "execution_count": 19,
   "metadata": {},
   "outputs": [
    {
     "name": "stdout",
     "output_type": "stream",
     "text": [
      "--- 12.215236902236938 seconds ---\n"
     ]
    }
   ],
   "source": [
    "# find slovak broader categories\n",
    "start_time = time.time()\n",
    "urls = re.compile(\"\"\"\\<(.*?)\\>\"\"\")\n",
    "label = re.compile(\"\"\"\\\"(.*?)\\\"\"\"\")\n",
    "for i in range(0, skos_categories_sk_len):\n",
    "    line = skos_category_sk.readline()\n",
    "    if (line.startswith('#') == False):\n",
    "        if(re.search(\"#prefLabel\", line)):\n",
    "            split_label = label.findall(line)\n",
    "        if((re.search(\"#broader\", line) or re.search('#related', line)) and split_label[0] in labelDictSlovak):\n",
    "            exception = replaceUnicode(split_label[0]).replace(\")\", \"\\)\").replace(\"(\", \"\\(\").replace(\"*\", \"\\*\").replace(\"+\", \"\\+\").replace(\" \", \"_\")\n",
    "            line = replaceUnicode(line)\n",
    "            regex = \"\"\"(?!resource\\/Kategória:\"\"\" + exception + \"\"\">)resource\\/Kategória:(.*?)\\>\"\"\"\n",
    "            broader = re.compile(regex)\n",
    "            broader_category = broader.findall(line)\n",
    "            if(len(broader_category) > 0):\n",
    "                categoriesDict[labelDictSlovak[split_label[0]]].slovakCategory.broaderCategories.append(replaceUnicode(broader_category[0]).replace(\"_\", \" \"))\n",
    "                categoriesDict[labelDictSlovak[split_label[0]]].slovakCategory.label = replaceUnicode(split_label[0])\n",
    "\n",
    "            \n",
    "print(\"--- %s seconds ---\" % (time.time() - start_time))"
   ]
  },
  {
   "cell_type": "code",
   "execution_count": 20,
   "metadata": {},
   "outputs": [
    {
     "name": "stdout",
     "output_type": "stream",
     "text": [
      "EnglishCategory: \n",
      "\tDbPediaUri: http://dbpedia.org/resource/Category:Futurama\n",
      "\tLabel: Futurama\n",
      "\tWikipediaUri: http://en.wikipedia.org/wiki/Category:Futurama?oldid=547808601\n",
      "\tBroaderCategories: ['Television series created by Matt Groening', 'Comic science fiction', 'Wikipedia categories named after American animated television series']\n",
      "HungarianCategory: \n",
      "\tDbPediaUri: http://hu.dbpedia.org/resource/Kategória:Futurama\n",
      "\tLabel: Futurama\n",
      "\tWikipediaUri: http://hu.wikipedia.org/wiki/Kategória:Futurama?oldid=13435155\n",
      "\tBroaderCategories: ['Rajzfilmek']\n",
      "SlovakCategory: Missing\n",
      "None\n"
     ]
    }
   ],
   "source": [
    "for key in categoriesDict:\n",
    "    print(categoriesDict[key].toString())\n",
    "    break"
   ]
  },
  {
   "cell_type": "code",
   "execution_count": 21,
   "metadata": {},
   "outputs": [
    {
     "name": "stdout",
     "output_type": "stream",
     "text": [
      "EnglishCategory: \n",
      "\tDbPediaUri: http://dbpedia.org/resource/Category:World_War_II\n",
      "\tLabel: World War II\n",
      "\tWikipediaUri: http://en.wikipedia.org/wiki/Category:World_War_II?oldid=543792520\n",
      "\tBroaderCategories: ['Wikipedia categories named after wars', '20th-century conflicts', 'Global conflicts', '1940s conflicts', '1930s conflicts', 'Conflicts in 1939', 'Conflicts in 1940', 'Conflicts in 1941', 'Conflicts in 1942', 'Conflicts in 1943', 'Conflicts in 1944', 'Conflicts in 1945', 'Global conflicts', 'Modern Europe', 'Wars involving Albania', 'Wars involving Argentina', 'Wars involving Australia', 'Wars involving Austria', 'Wars involving Belarus', 'Wars involving Belgium', 'Wars involving Bolivia', 'Wars involving Brazil', 'Wars involving British India', 'Wars involving Bulgaria', 'Wars involving Burma', 'Wars involving Cambodia', 'Wars involving Canada', 'Wars involving Chile', 'Wars involving the Republic of China', 'Wars involving Colombia', 'Wars involving Costa Rica', 'Wars involving Cuba', 'Wars involving Czechoslovakia', 'Wars involving Denmark', 'Wars involving the Dominican Republic', 'Wars involving Ecuador', 'Wars involving Egypt', 'Wars involving El Salvador', 'Wars involving Estonia', 'Wars involving Ethiopia', 'Wars involving Finland', 'Wars involving France', 'Wars involving Germany', 'Wars involving Greece', 'Wars involving Guatemala', 'Wars involving Haiti', 'Wars involving Honduras', 'Wars involving Hungary', 'Wars involving Indonesia', 'Wars involving Iran', 'Wars involving Iraq', 'Wars involving Italy', 'Wars involving Japan', 'Wars involving Korea', 'Wars involving Laos', 'Wars involving Lebanon', 'Wars involving Liberia', 'Wars involving Lithuania', 'Wars involving Luxembourg', 'Wars involving Mexico', 'Wars involving Mongolia', 'Wars involving Nepal', 'Wars involving the Netherlands', 'Wars involving New Zealand', 'Wars involving Nicaragua', 'Wars involving Norway', 'Wars involving Panama', 'Wars involving Paraguay', 'Wars involving Peru', 'Wars involving the Philippines', 'Wars involving Poland', 'Wars involving Romania', 'Wars involving San Marino', 'Wars involving Saudi Arabia', 'Wars involving South Africa', 'Wars involving Slovakia', 'Wars involving the Soviet Union', 'Wars involving Syria', 'Wars involving Thailand', 'Wars involving Turkey', 'Wars involving Ukraine', 'Wars involving the United Kingdom', 'Wars involving the United States', 'Wars involving Uruguay', 'Wars involving Venezuela', 'Wars involving Vietnam', 'Wars involving Yugoslavia']\n",
      "HungarianCategory: \n",
      "\tDbPediaUri: http://hu.dbpedia.org/resource/Kategória:Második_világháború\n",
      "\tLabel: Második világháború\n",
      "\tWikipediaUri: http://hu.wikipedia.org/wiki/Kategória:Második_világháború?oldid=13278672\n",
      "\tBroaderCategories: ['20. század', 'Újkori háborúk', 'Belgium háborúi', 'Az Egyesült Királyság háborúi', 'Etiópia háborúi', 'Franciaország háborúi', 'Hollandia háborúi', 'Japán háborúi', 'Kína háborúi', 'Lengyelország háborúi', 'Németország háborúi', 'Olaszország háborúi', 'A Szovjetunió háborúi', 'Az USA háborúi']\n",
      "SlovakCategory: \n",
      "\tDbPediaUri: http://sk.dbpedia.org/resource/Kategória:Druhá_svetová_vojna\n",
      "\tLabel: Druhá svetová vojna\n",
      "\tWikipediaUri: http://sk.wikipedia.org/wiki/Kategória:Druhá_svetová_vojna?oldid=5457918\n",
      "\tBroaderCategories: ['Vojny 20. storočia', 'Vojny Francúzska', 'Vojny Poľska', 'Vojny USA']\n"
     ]
    }
   ],
   "source": [
    "categoriesDict[\"World War II\"].toString()"
   ]
  },
  {
   "cell_type": "code",
   "execution_count": 22,
   "metadata": {},
   "outputs": [],
   "source": [
    "fieldnames='en_db\\ten_label\\ten_wiki\\ten_broader\\thu_db\\thu_label\\thu_wiki\\thu_broader\\tsk_db\\tsk_label\\tsk_wiki\\tsk_broader'\n",
    "with open('Data/parsed_categories_2.tsv', \"a\") as f:\n",
    "    f.write(fieldnames + \"\\n\")\n",
    "    for key in categoriesDict:\n",
    "        f.write(\"{}\\t{}\\t{}\\t{}\\t{}\\t{}\\t{}\\t{}\\t{}\\t{}\\t{}\\t{}\\n\".format(\n",
    "            categoriesDict[key].englishCategory.dbpediaUri,\n",
    "            categoriesDict[key].englishCategory.label,\n",
    "            categoriesDict[key].englishCategory.wikipediaUri,\n",
    "            listToString(categoriesDict[key].englishCategory.broaderCategories),\n",
    "            (categoriesDict[key].hungarianCategory.dbpediaUri if hasattr(categoriesDict[key].hungarianCategory, 'dbpediaUri') else \"\"),\n",
    "            (categoriesDict[key].hungarianCategory.label if hasattr(categoriesDict[key].hungarianCategory, 'label') else \"\"),\n",
    "            (categoriesDict[key].hungarianCategory.wikipediaUri if hasattr(categoriesDict[key].hungarianCategory, 'wikipediaUri') else \"\"),\n",
    "            (listToString(categoriesDict[key].hungarianCategory.broaderCategories) if hasattr(categoriesDict[key].hungarianCategory, 'broaderCategories') else \"\"),\n",
    "            (categoriesDict[key].slovakCategory.dbpediaUri if hasattr(categoriesDict[key].slovakCategory, 'dbpediaUri') else \"\"),\n",
    "            (categoriesDict[key].slovakCategory.label if hasattr(categoriesDict[key].slovakCategory, 'label') else \"\"),\n",
    "            (categoriesDict[key].slovakCategory.wikipediaUri if hasattr(categoriesDict[key].slovakCategory, 'wikipediaUri') else \"\"),\n",
    "            (listToString(categoriesDict[key].slovakCategory.broaderCategories) if hasattr(categoriesDict[key].slovakCategory, 'broaderCategories') else \"\")\n",
    "        ))"
   ]
  },
  {
   "cell_type": "code",
   "execution_count": null,
   "metadata": {},
   "outputs": [],
   "source": []
  }
 ],
 "metadata": {
  "kernelspec": {
   "display_name": "Python 3",
   "language": "python",
   "name": "python3"
  },
  "language_info": {
   "codemirror_mode": {
    "name": "ipython",
    "version": 3
   },
   "file_extension": ".py",
   "mimetype": "text/x-python",
   "name": "python",
   "nbconvert_exporter": "python",
   "pygments_lexer": "ipython3",
   "version": "3.7.4"
  }
 },
 "nbformat": 4,
 "nbformat_minor": 2
}
