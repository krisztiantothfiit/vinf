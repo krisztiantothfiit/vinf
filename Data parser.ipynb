{
 "cells": [
  {
   "cell_type": "code",
   "execution_count": 1,
   "metadata": {},
   "outputs": [],
   "source": [
    "import re\n",
    "import time\n",
    "import pickle"
   ]
  },
  {
   "cell_type": "code",
   "execution_count": 2,
   "metadata": {},
   "outputs": [],
   "source": [
    "class Category:\n",
    "    def __init__(self, hungarianUrls, slovakUrls, englichCategory, hungarianCategory, slovakCategory):\n",
    "        self.hungarianUrls = hungarianUrls\n",
    "        self.slovakUrls = slovakUrls\n",
    "        self.englishCategory = englishCategory\n",
    "        self.hungarianCategory = hungarianCategory\n",
    "        self.slovakCategory = slovakCategory\n",
    "\n",
    "    def toString(self):\n",
    "        print(\"EnglishCategory: \" + (self.englishCategory.toString() if hasattr(self.englishCategory, 'label') else \"Missing\")\n",
    "              + \"\\nHungarianCategory: \" + (self.hungarianCategory.toString() if hasattr(self.hungarianCategory, 'label') else \"Missing\")\n",
    "              + \"\\nSlovakCategory: \" + (self.slovakCategory.toString() if hasattr(self.slovakCategory, 'label') else \"Missing\"))\n",
    "        \n",
    "class Category_Language:\n",
    "    def __init__(self, dbpediaUri, label, wikipediaUri, broaderCategories):\n",
    "        self.dbpediaUri = dbpediaUri\n",
    "        self.label = label\n",
    "        self.wikipediaUri = wikipediaUri\n",
    "        self.broaderCategories = broaderCategories\n",
    "\n",
    "    def toString(self):\n",
    "        return \"\\n\\tDbPediaUri: \" + self.dbpediaUri + \"\\n\\tLabel: \" + self.label + \"\\n\\tWikipediaUri: \" + self.wikipediaUri + \"\\n\\tBroaderCategories: \" + str(self.broaderCategories)\n",
    "    \n",
    "def replaceUnicode(string):\n",
    "    unicode_chars = [\"\\\\u00C1\", \"\\\\u00C9\", \"\\\\u00CD\", \"\\\\u00D3\", \"\\\\u00D6\", \"\\\\u0150\", \"\\\\u00DA\", \"\\\\u00DC\", \"\\\\u0170\", \"\\\\u00E1\", \"\\\\u00E9\", \"\\\\u00ED\",\n",
    "                    \"\\\\u00F3\", \"\\\\u00F6\", \"\\\\u0151\", \"\\\\u00FA\", \"\\\\u00FC\", \"\\\\u0171\", \"\\\\u00C4\", \"\\\\u00D4\", \"\\\\u00DD\", \"\\\\u010C\", \"\\\\u010E\", \"\\\\u0139\",\n",
    "                    \"\\\\u013D\", \"\\\\u0147\", \"\\\\u0154\", \"\\\\u0160\", \"\\\\u0164\", \"\\\\u017D\", \"\\\\u01F1\", \"\\\\u01C4\", \"\\\\u00E4\", \"\\\\u00F4\", \"\\\\u00FD\", \"\\\\u010D\",\n",
    "                    \"\\\\u010F\", \"\\\\u013A\", \"\\\\u013E\", \"\\\\u0148\", \"\\\\u0155\", \"\\\\u0161\", \"\\\\u0165\", \"\\\\u017E\", \"\\\\u01F3\", \"\\\\u01C6\"]\n",
    "    ascii_chars = [\"Á\", \"É\", \"Í\", \"Ó\", \"Ö\", \"Ő\", \"Ú\", \"Ü\", \"Ű\", \"á\", \"é\", \"í\", \"ó\", \"ö\", \"ő\", \"ú\", \"ü\", \"ű\", \"Ä\",\n",
    "                   \"Ô\", \"Ý\", \"Č\", \"Ď\", \"Ĺ\", \"Ľ\", \"Ň\", \"Ŕ\", \"Š\", \"Ť\", \"Ž\", \"DZ\", \"DŽ\", \"ä\", \"ô\", \"ý\", \"č\", \"ď\",\n",
    "                  \"ĺ\", \"ľ\", \"ň\", \"ŕ\", \"š\", \"ť\", \"ž\", \"dz\", \"dž\"]\n",
    "    for i in range(0, len(unicode_chars)):\n",
    "        string = string.replace(unicode_chars[i], ascii_chars[i])\n",
    "        \n",
    "    return string"
   ]
  },
  {
   "cell_type": "code",
   "execution_count": 3,
   "metadata": {},
   "outputs": [],
   "source": [
    "category_en = open(\"Data/category_labels_en.nq\", \"r\")\n",
    "category_uris_hu = open(\"Data/category_labels_en_uris_hu.nq\", \"r\")\n",
    "category_uris_sk = open(\"Data/category_labels_en_uris_sk.nq\", \"r\")\n",
    "category_hu = open(\"Data/category_labels_hu.nq\", \"r\")\n",
    "category_sk = open(\"Data/category_labels_sk.nq\", \"r\")\n",
    "skos_category_en = open(\"Data/skos_categories_en.nq\", \"r\")\n",
    "skos_category_hu = open(\"Data/skos_categories_hu.nq\", \"r\")\n",
    "skos_category_sk = open(\"Data/skos_categories_sk.nq\", \"r\")"
   ]
  },
  {
   "cell_type": "code",
   "execution_count": 4,
   "metadata": {},
   "outputs": [],
   "source": [
    "def file_len(fname):\n",
    "    with open(fname) as f:\n",
    "        for i, l in enumerate(f):\n",
    "            pass\n",
    "    return i + 1"
   ]
  },
  {
   "cell_type": "code",
   "execution_count": 5,
   "metadata": {},
   "outputs": [],
   "source": [
    "category_labels_en_len = file_len(\"Data/category_labels_en.nq\")\n",
    "category_labels_hu_len = file_len(\"Data/category_labels_hu.nq\")\n",
    "category_labels_en_uris_hu_len = file_len(\"Data/category_labels_en_uris_hu.nq\")\n",
    "category_labels_en_uris_sk_len = file_len(\"Data/category_labels_en_uris_sk.nq\")\n",
    "category_labels_sk_len = file_len(\"Data/category_labels_sk.nq\")\n",
    "skos_categories_en_len = file_len(\"Data/skos_categories_en.nq\")\n",
    "skos_categories_hu_len = file_len(\"Data/skos_categories_hu.nq\")\n",
    "skos_categories_sk_len = file_len(\"Data/skos_categories_sk.nq\")"
   ]
  },
  {
   "cell_type": "code",
   "execution_count": 6,
   "metadata": {},
   "outputs": [],
   "source": [
    "categoriesDict = {}"
   ]
  },
  {
   "cell_type": "code",
   "execution_count": 7,
   "metadata": {},
   "outputs": [
    {
     "name": "stdout",
     "output_type": "stream",
     "text": [
      "--- 24.36811137199402 seconds ---\n"
     ]
    }
   ],
   "source": [
    "# category_en\n",
    "start_time = time.time()\n",
    "for i in range(0,category_labels_en_len):\n",
    "    line = category_en.readline()\n",
    "    if (line.startswith('#') == False):\n",
    "        urls = re.compile(\"\"\"\\<(.*?)\\>\"\"\")\n",
    "        label = re.compile(\"\"\"\\\"(.*?)\\\"\"\"\")                 \n",
    "        split_urls = urls.findall(line)\n",
    "        split_label = label.findall(line)\n",
    "        englishCategory = Category_Language(split_urls[0], split_label[0], split_urls[2], [])\n",
    "        category = Category([], [], englishCategory, {}, {})\n",
    "        categoriesDict[category.englishCategory.label] = category\n",
    "print(\"--- %s seconds ---\" % (time.time() - start_time))"
   ]
  },
  {
   "cell_type": "code",
   "execution_count": 8,
   "metadata": {},
   "outputs": [],
   "source": [
    "uriDict = {}\n",
    "\n",
    "for key in categoriesDict:\n",
    "    uriDict[categoriesDict[key].englishCategory.dbpediaUri] = key"
   ]
  },
  {
   "cell_type": "code",
   "execution_count": 9,
   "metadata": {},
   "outputs": [
    {
     "name": "stdout",
     "output_type": "stream",
     "text": [
      "--- 0.23651504516601562 seconds ---\n"
     ]
    }
   ],
   "source": [
    "# find url to hungarian version of every category\n",
    "start_time = time.time()\n",
    "urls = re.compile(\"\"\"\\<(.*?)\\>\"\"\")\n",
    "for i in range(0,category_labels_en_uris_hu_len):\n",
    "    line = category_uris_hu.readline()\n",
    "    if (line.startswith('#') == False):\n",
    "        split_urls = urls.findall(line)\n",
    "        dbPediaUri = split_urls[0]\n",
    "        if(dbPediaUri in uriDict):\n",
    "            categoriesDict[uriDict[dbPediaUri]].hungarianUrls.append(split_urls[2])\n",
    "            \n",
    "print(\"--- %s seconds ---\" % (time.time() - start_time))"
   ]
  },
  {
   "cell_type": "code",
   "execution_count": 10,
   "metadata": {},
   "outputs": [],
   "source": [
    "wikiUriDict = {}\n",
    "\n",
    "for key in categoriesDict:\n",
    "    if(len(categoriesDict[key].hungarianUrls) > 0):\n",
    "        wikiUriDict[categoriesDict[key].hungarianUrls[0]] = key"
   ]
  },
  {
   "cell_type": "code",
   "execution_count": 11,
   "metadata": {},
   "outputs": [
    {
     "name": "stdout",
     "output_type": "stream",
     "text": [
      "--- 0.6105246543884277 seconds ---\n"
     ]
    }
   ],
   "source": [
    "# find hungarian version of every category by wiki url\n",
    "start_time = time.time()\n",
    "urls = re.compile(\"\"\"\\<(.*?)\\>\"\"\")\n",
    "label = re.compile(\"\"\"\\\"(.*?)\\\"\"\"\") \n",
    "for i in range(0,category_labels_hu_len):\n",
    "    line = category_hu.readline()\n",
    "    if (line.startswith('#') == False):\n",
    "        split_urls = urls.findall(line)\n",
    "        split_label = label.findall(line)\n",
    "        wikiPediaUri = split_urls[2]\n",
    "        if(wikiPediaUri in wikiUriDict):\n",
    "            hungarianCategory = Category_Language(split_urls[0], split_label[0], wikiPediaUri, [])\n",
    "            categoriesDict[wikiUriDict[wikiPediaUri]].hungarianCategory = hungarianCategory\n",
    "            \n",
    "print(\"--- %s seconds ---\" % (time.time() - start_time))"
   ]
  },
  {
   "cell_type": "code",
   "execution_count": 12,
   "metadata": {},
   "outputs": [
    {
     "name": "stdout",
     "output_type": "stream",
     "text": [
      "--- 0.3709993362426758 seconds ---\n"
     ]
    }
   ],
   "source": [
    "# find url to slovak version of every category\n",
    "start_time = time.time()\n",
    "urls = re.compile(\"\"\"\\<(.*?)\\>\"\"\")\n",
    "for i in range(0,category_labels_en_uris_sk_len):\n",
    "    line = category_uris_sk.readline()\n",
    "    if (line.startswith('#') == False):\n",
    "        split_urls = urls.findall(line)\n",
    "        dbPediaUri = split_urls[0]\n",
    "        if(dbPediaUri in uriDict):\n",
    "            categoriesDict[uriDict[dbPediaUri]].slovakUrls.append(split_urls[2])\n",
    "            \n",
    "print(\"--- %s seconds ---\" % (time.time() - start_time))"
   ]
  },
  {
   "cell_type": "code",
   "execution_count": 13,
   "metadata": {},
   "outputs": [],
   "source": [
    "wikiUriDictSlovak = {}\n",
    "\n",
    "for key in categoriesDict:\n",
    "    if(len(categoriesDict[key].slovakUrls) > 0):\n",
    "        wikiUriDictSlovak[categoriesDict[key].slovakUrls[0]] = key"
   ]
  },
  {
   "cell_type": "code",
   "execution_count": 14,
   "metadata": {},
   "outputs": [
    {
     "name": "stdout",
     "output_type": "stream",
     "text": [
      "--- 0.6140003204345703 seconds ---\n"
     ]
    }
   ],
   "source": [
    "# find slovak version of every category by wiki url\n",
    "start_time = time.time()\n",
    "urls = re.compile(\"\"\"\\<(.*?)\\>\"\"\")\n",
    "label = re.compile(\"\"\"\\\"(.*?)\\\"\"\"\") \n",
    "for i in range(0,category_labels_sk_len):\n",
    "    line = category_sk.readline()\n",
    "    if (line.startswith('#') == False):\n",
    "        split_urls = urls.findall(line)\n",
    "        split_label = label.findall(line)\n",
    "        wikiPediaUri = split_urls[2]\n",
    "        if(wikiPediaUri in wikiUriDictSlovak):\n",
    "            slovakCategory = Category_Language(split_urls[0], split_label[0], wikiPediaUri, [])\n",
    "            categoriesDict[wikiUriDictSlovak[wikiPediaUri]].slovakCategory = slovakCategory\n",
    "            \n",
    "print(\"--- %s seconds ---\" % (time.time() - start_time))"
   ]
  },
  {
   "cell_type": "code",
   "execution_count": 15,
   "metadata": {},
   "outputs": [
    {
     "name": "stdout",
     "output_type": "stream",
     "text": [
      "--- 285.02931094169617 seconds ---\n"
     ]
    }
   ],
   "source": [
    "# find english broader categories\n",
    "start_time = time.time()\n",
    "urls = re.compile(\"\"\"\\<(.*?)\\>\"\"\")\n",
    "label = re.compile(\"\"\"\\\"(.*?)\\\"\"\"\")\n",
    "for i in range(0, skos_categories_en_len):\n",
    "    line = skos_category_en.readline()\n",
    "    if (line.startswith('#') == False):\n",
    "        if(re.search(\"#prefLabel\", line)):\n",
    "            split_label = label.findall(line)\n",
    "        if(re.search(\"#broader\", line) or re.search('#related', line)):\n",
    "            exception = split_label[0].replace(\")\", \"\\)\").replace(\"(\", \"\\(\").replace(\"*\", \"\\*\").replace(\"+\", \"\\+\").replace(\" \", \"_\")\n",
    "            regex = \"\"\"(?!resource\\/Category:\"\"\" + exception + \"\"\">)resource\\/Category:(.*?)\\>\"\"\"\n",
    "            broader = re.compile(regex)\n",
    "            broader_category = broader.findall(line)\n",
    "            if(len(broader_category) > 0):\n",
    "                categoriesDict[split_label[0]].englishCategory.broaderCategories.append(broader_category[0].replace(\"_\", \" \"))\n",
    "\n",
    "print(\"--- %s seconds ---\" % (time.time() - start_time))"
   ]
  },
  {
   "cell_type": "code",
   "execution_count": 16,
   "metadata": {},
   "outputs": [],
   "source": [
    "labelDictHungarian = {}\n",
    "\n",
    "for key in categoriesDict:\n",
    "    if(hasattr(categoriesDict[key], 'hungarianCategory') & hasattr(categoriesDict[key].hungarianCategory, 'label')):\n",
    "        labelDictHungarian[categoriesDict[key].hungarianCategory.label] = key"
   ]
  },
  {
   "cell_type": "code",
   "execution_count": 17,
   "metadata": {},
   "outputs": [
    {
     "name": "stdout",
     "output_type": "stream",
     "text": [
      "--- 10.654859066009521 seconds ---\n"
     ]
    }
   ],
   "source": [
    "# find hungarian broader categories\n",
    "start_time = time.time()\n",
    "urls = re.compile(\"\"\"\\<(.*?)\\>\"\"\")\n",
    "label = re.compile(\"\"\"\\\"(.*?)\\\"\"\"\")\n",
    "for i in range(0, skos_categories_hu_len):\n",
    "    line = skos_category_hu.readline()\n",
    "    if (line.startswith('#') == False):\n",
    "        if(re.search(\"#prefLabel\", line)):\n",
    "            split_label = label.findall(line)\n",
    "        if((re.search(\"#broader\", line) or re.search('#related', line)) and split_label[0] in labelDictHungarian):\n",
    "            exception = replaceUnicode(split_label[0]).replace(\")\", \"\\)\").replace(\"(\", \"\\(\").replace(\"*\", \"\\*\").replace(\"+\", \"\\+\").replace(\" \", \"_\")\n",
    "            line = replaceUnicode(line)\n",
    "            regex = \"(?!resource\\/Kategória:\" + exception + \">)resource\\/Kategória:(.*?)\\>\"\n",
    "            broader = re.compile(regex)\n",
    "            broader_category = broader.findall(line)\n",
    "            if(len(broader_category) > 0):\n",
    "                categoriesDict[labelDictHungarian[split_label[0]]].hungarianCategory.broaderCategories.append(replaceUnicode(broader_category[0]).replace(\"_\", \" \"))\n",
    "                categoriesDict[labelDictHungarian[split_label[0]]].hungarianCategory.label = replaceUnicode(split_label[0])\n",
    "            \n",
    "print(\"--- %s seconds ---\" % (time.time() - start_time))"
   ]
  },
  {
   "cell_type": "code",
   "execution_count": 18,
   "metadata": {},
   "outputs": [],
   "source": [
    "labelDictSlovak = {}\n",
    "\n",
    "for key in categoriesDict:\n",
    "    if(hasattr(categoriesDict[key], 'slovakCategory') & hasattr(categoriesDict[key].slovakCategory, 'label')):\n",
    "        labelDictSlovak[categoriesDict[key].slovakCategory.label] = key"
   ]
  },
  {
   "cell_type": "code",
   "execution_count": 19,
   "metadata": {},
   "outputs": [
    {
     "name": "stdout",
     "output_type": "stream",
     "text": [
      "--- 11.818929433822632 seconds ---\n"
     ]
    }
   ],
   "source": [
    "# find slovak broader categories\n",
    "start_time = time.time()\n",
    "urls = re.compile(\"\"\"\\<(.*?)\\>\"\"\")\n",
    "label = re.compile(\"\"\"\\\"(.*?)\\\"\"\"\")\n",
    "for i in range(0, skos_categories_sk_len):\n",
    "    line = skos_category_sk.readline()\n",
    "    if (line.startswith('#') == False):\n",
    "        if(re.search(\"#prefLabel\", line)):\n",
    "            split_label = label.findall(line)\n",
    "        if((re.search(\"#broader\", line) or re.search('#related', line)) and split_label[0] in labelDictSlovak):\n",
    "            exception = replaceUnicode(split_label[0]).replace(\")\", \"\\)\").replace(\"(\", \"\\(\").replace(\"*\", \"\\*\").replace(\"+\", \"\\+\").replace(\" \", \"_\")\n",
    "            line = replaceUnicode(line)\n",
    "            regex = \"\"\"(?!resource\\/Kategória:\"\"\" + exception + \"\"\">)resource\\/Kategória:(.*?)\\>\"\"\"\n",
    "            broader = re.compile(regex)\n",
    "            broader_category = broader.findall(line)\n",
    "            if(len(broader_category) > 0):\n",
    "                categoriesDict[labelDictSlovak[split_label[0]]].slovakCategory.broaderCategories.append(replaceUnicode(broader_category[0]).replace(\"_\", \" \"))\n",
    "                categoriesDict[labelDictSlovak[split_label[0]]].slovakCategory.label = replaceUnicode(split_label[0])\n",
    "\n",
    "            \n",
    "print(\"--- %s seconds ---\" % (time.time() - start_time))"
   ]
  },
  {
   "cell_type": "code",
   "execution_count": 20,
   "metadata": {},
   "outputs": [
    {
     "name": "stdout",
     "output_type": "stream",
     "text": [
      "EnglishCategory: \n",
      "\tDbPediaUri: http://dbpedia.org/resource/Category:Futurama\n",
      "\tLabel: Futurama\n",
      "\tWikipediaUri: http://en.wikipedia.org/wiki/Category:Futurama?oldid=547808601\n",
      "\tBroaderCategories: ['Television series created by Matt Groening', 'Comic science fiction', 'Wikipedia categories named after American animated television series']\n",
      "HungarianCategory: \n",
      "\tDbPediaUri: http://hu.dbpedia.org/resource/Kateg\\u00F3ria:Futurama\n",
      "\tLabel: Futurama\n",
      "\tWikipediaUri: http://hu.wikipedia.org/wiki/Kateg\\u00F3ria:Futurama?oldid=13435155\n",
      "\tBroaderCategories: ['Rajzfilmek']\n",
      "SlovakCategory: Missing\n",
      "None\n"
     ]
    }
   ],
   "source": [
    "for key in categoriesDict:\n",
    "    print(categoriesDict[key].toString())\n",
    "    break"
   ]
  },
  {
   "cell_type": "code",
   "execution_count": 21,
   "metadata": {},
   "outputs": [
    {
     "name": "stdout",
     "output_type": "stream",
     "text": [
      "EnglishCategory: \n",
      "\tDbPediaUri: http://dbpedia.org/resource/Category:Mathematics\n",
      "\tLabel: Mathematics\n",
      "\tWikipediaUri: http://en.wikipedia.org/wiki/Category:Mathematics?oldid=543792969\n",
      "\tBroaderCategories: ['Main topic classifications', 'Abstraction', 'Formal sciences', 'Structure']\n",
      "HungarianCategory: \n",
      "\tDbPediaUri: http://hu.dbpedia.org/resource/Kateg\\u00F3ria:Matematika\n",
      "\tLabel: Matematika\n",
      "\tWikipediaUri: http://hu.wikipedia.org/wiki/Kateg\\u00F3ria:Matematika?oldid=13104890\n",
      "\tBroaderCategories: ['Tudomány']\n",
      "SlovakCategory: \n",
      "\tDbPediaUri: http://sk.dbpedia.org/resource/Kateg\\u00F3ria:Matematika\n",
      "\tLabel: Matematika\n",
      "\tWikipediaUri: http://sk.wikipedia.org/wiki/Kateg\\u00F3ria:Matematika?oldid=5462139\n",
      "\tBroaderCategories: ['Prírodné vedy']\n"
     ]
    }
   ],
   "source": [
    "categoriesDict[\"Mathematics\"].toString()"
   ]
  },
  {
   "cell_type": "code",
   "execution_count": null,
   "metadata": {},
   "outputs": [],
   "source": []
  }
 ],
 "metadata": {
  "kernelspec": {
   "display_name": "Python 3",
   "language": "python",
   "name": "python3"
  },
  "language_info": {
   "codemirror_mode": {
    "name": "ipython",
    "version": 3
   },
   "file_extension": ".py",
   "mimetype": "text/x-python",
   "name": "python",
   "nbconvert_exporter": "python",
   "pygments_lexer": "ipython3",
   "version": "3.7.4"
  }
 },
 "nbformat": 4,
 "nbformat_minor": 2
}
